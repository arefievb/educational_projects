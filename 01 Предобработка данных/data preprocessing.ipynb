{
 "cells": [
  {
   "cell_type": "markdown",
   "metadata": {},
   "source": [
    "# Исследование надёжности заёмщиков\n",
    "\n",
    "Первый учебный проект направлен на закрепление навыков предобработки данных.\n",
    "\n",
    "\n",
    "Заказчик — кредитный отдел банка.  \n",
    "Необходимо разобраться, влияет ли семейное положение и количество детей клиента на факт погашения кредита в срок.  \n",
    "Входные данные от банка — статистика о платёжеспособности клиентов.  \n",
    "  \n",
    "Результаты исследования будут учтены при построении модели **кредитного скоринга** — специальной системы, которая оценивает способность потенциального заёмщика вернуть кредит банку."
   ]
  },
  {
   "cell_type": "markdown",
   "metadata": {},
   "source": [
    "## Первый взгляд на данные"
   ]
  },
  {
   "cell_type": "code",
   "execution_count": 1,
   "metadata": {},
   "outputs": [
    {
     "data": {
      "text/html": [
       "<div>\n",
       "<style scoped>\n",
       "    .dataframe tbody tr th:only-of-type {\n",
       "        vertical-align: middle;\n",
       "    }\n",
       "\n",
       "    .dataframe tbody tr th {\n",
       "        vertical-align: top;\n",
       "    }\n",
       "\n",
       "    .dataframe thead th {\n",
       "        text-align: right;\n",
       "    }\n",
       "</style>\n",
       "<table border=\"1\" class=\"dataframe\">\n",
       "  <thead>\n",
       "    <tr style=\"text-align: right;\">\n",
       "      <th></th>\n",
       "      <th>children</th>\n",
       "      <th>days_employed</th>\n",
       "      <th>dob_years</th>\n",
       "      <th>education</th>\n",
       "      <th>education_id</th>\n",
       "      <th>family_status</th>\n",
       "      <th>family_status_id</th>\n",
       "      <th>gender</th>\n",
       "      <th>income_type</th>\n",
       "      <th>debt</th>\n",
       "      <th>total_income</th>\n",
       "      <th>purpose</th>\n",
       "    </tr>\n",
       "  </thead>\n",
       "  <tbody>\n",
       "    <tr>\n",
       "      <td>0</td>\n",
       "      <td>1</td>\n",
       "      <td>-8437.673028</td>\n",
       "      <td>42</td>\n",
       "      <td>высшее</td>\n",
       "      <td>0</td>\n",
       "      <td>женат / замужем</td>\n",
       "      <td>0</td>\n",
       "      <td>F</td>\n",
       "      <td>сотрудник</td>\n",
       "      <td>0</td>\n",
       "      <td>253875.639453</td>\n",
       "      <td>покупка жилья</td>\n",
       "    </tr>\n",
       "    <tr>\n",
       "      <td>1</td>\n",
       "      <td>1</td>\n",
       "      <td>-4024.803754</td>\n",
       "      <td>36</td>\n",
       "      <td>среднее</td>\n",
       "      <td>1</td>\n",
       "      <td>женат / замужем</td>\n",
       "      <td>0</td>\n",
       "      <td>F</td>\n",
       "      <td>сотрудник</td>\n",
       "      <td>0</td>\n",
       "      <td>112080.014102</td>\n",
       "      <td>приобретение автомобиля</td>\n",
       "    </tr>\n",
       "    <tr>\n",
       "      <td>2</td>\n",
       "      <td>0</td>\n",
       "      <td>-5623.422610</td>\n",
       "      <td>33</td>\n",
       "      <td>Среднее</td>\n",
       "      <td>1</td>\n",
       "      <td>женат / замужем</td>\n",
       "      <td>0</td>\n",
       "      <td>M</td>\n",
       "      <td>сотрудник</td>\n",
       "      <td>0</td>\n",
       "      <td>145885.952297</td>\n",
       "      <td>покупка жилья</td>\n",
       "    </tr>\n",
       "    <tr>\n",
       "      <td>3</td>\n",
       "      <td>3</td>\n",
       "      <td>-4124.747207</td>\n",
       "      <td>32</td>\n",
       "      <td>среднее</td>\n",
       "      <td>1</td>\n",
       "      <td>женат / замужем</td>\n",
       "      <td>0</td>\n",
       "      <td>M</td>\n",
       "      <td>сотрудник</td>\n",
       "      <td>0</td>\n",
       "      <td>267628.550329</td>\n",
       "      <td>дополнительное образование</td>\n",
       "    </tr>\n",
       "    <tr>\n",
       "      <td>4</td>\n",
       "      <td>0</td>\n",
       "      <td>340266.072047</td>\n",
       "      <td>53</td>\n",
       "      <td>среднее</td>\n",
       "      <td>1</td>\n",
       "      <td>гражданский брак</td>\n",
       "      <td>1</td>\n",
       "      <td>F</td>\n",
       "      <td>пенсионер</td>\n",
       "      <td>0</td>\n",
       "      <td>158616.077870</td>\n",
       "      <td>сыграть свадьбу</td>\n",
       "    </tr>\n",
       "    <tr>\n",
       "      <td>5</td>\n",
       "      <td>0</td>\n",
       "      <td>-926.185831</td>\n",
       "      <td>27</td>\n",
       "      <td>высшее</td>\n",
       "      <td>0</td>\n",
       "      <td>гражданский брак</td>\n",
       "      <td>1</td>\n",
       "      <td>M</td>\n",
       "      <td>компаньон</td>\n",
       "      <td>0</td>\n",
       "      <td>255763.565419</td>\n",
       "      <td>покупка жилья</td>\n",
       "    </tr>\n",
       "    <tr>\n",
       "      <td>6</td>\n",
       "      <td>0</td>\n",
       "      <td>-2879.202052</td>\n",
       "      <td>43</td>\n",
       "      <td>высшее</td>\n",
       "      <td>0</td>\n",
       "      <td>женат / замужем</td>\n",
       "      <td>0</td>\n",
       "      <td>F</td>\n",
       "      <td>компаньон</td>\n",
       "      <td>0</td>\n",
       "      <td>240525.971920</td>\n",
       "      <td>операции с жильем</td>\n",
       "    </tr>\n",
       "    <tr>\n",
       "      <td>7</td>\n",
       "      <td>0</td>\n",
       "      <td>-152.779569</td>\n",
       "      <td>50</td>\n",
       "      <td>СРЕДНЕЕ</td>\n",
       "      <td>1</td>\n",
       "      <td>женат / замужем</td>\n",
       "      <td>0</td>\n",
       "      <td>M</td>\n",
       "      <td>сотрудник</td>\n",
       "      <td>0</td>\n",
       "      <td>135823.934197</td>\n",
       "      <td>образование</td>\n",
       "    </tr>\n",
       "    <tr>\n",
       "      <td>8</td>\n",
       "      <td>2</td>\n",
       "      <td>-6929.865299</td>\n",
       "      <td>35</td>\n",
       "      <td>ВЫСШЕЕ</td>\n",
       "      <td>0</td>\n",
       "      <td>гражданский брак</td>\n",
       "      <td>1</td>\n",
       "      <td>F</td>\n",
       "      <td>сотрудник</td>\n",
       "      <td>0</td>\n",
       "      <td>95856.832424</td>\n",
       "      <td>на проведение свадьбы</td>\n",
       "    </tr>\n",
       "    <tr>\n",
       "      <td>9</td>\n",
       "      <td>0</td>\n",
       "      <td>-2188.756445</td>\n",
       "      <td>41</td>\n",
       "      <td>среднее</td>\n",
       "      <td>1</td>\n",
       "      <td>женат / замужем</td>\n",
       "      <td>0</td>\n",
       "      <td>M</td>\n",
       "      <td>сотрудник</td>\n",
       "      <td>0</td>\n",
       "      <td>144425.938277</td>\n",
       "      <td>покупка жилья для семьи</td>\n",
       "    </tr>\n",
       "  </tbody>\n",
       "</table>\n",
       "</div>"
      ],
      "text/plain": [
       "   children  days_employed  dob_years education  education_id  \\\n",
       "0         1   -8437.673028         42    высшее             0   \n",
       "1         1   -4024.803754         36   среднее             1   \n",
       "2         0   -5623.422610         33   Среднее             1   \n",
       "3         3   -4124.747207         32   среднее             1   \n",
       "4         0  340266.072047         53   среднее             1   \n",
       "5         0    -926.185831         27    высшее             0   \n",
       "6         0   -2879.202052         43    высшее             0   \n",
       "7         0    -152.779569         50   СРЕДНЕЕ             1   \n",
       "8         2   -6929.865299         35    ВЫСШЕЕ             0   \n",
       "9         0   -2188.756445         41   среднее             1   \n",
       "\n",
       "      family_status  family_status_id gender income_type  debt   total_income  \\\n",
       "0   женат / замужем                 0      F   сотрудник     0  253875.639453   \n",
       "1   женат / замужем                 0      F   сотрудник     0  112080.014102   \n",
       "2   женат / замужем                 0      M   сотрудник     0  145885.952297   \n",
       "3   женат / замужем                 0      M   сотрудник     0  267628.550329   \n",
       "4  гражданский брак                 1      F   пенсионер     0  158616.077870   \n",
       "5  гражданский брак                 1      M   компаньон     0  255763.565419   \n",
       "6   женат / замужем                 0      F   компаньон     0  240525.971920   \n",
       "7   женат / замужем                 0      M   сотрудник     0  135823.934197   \n",
       "8  гражданский брак                 1      F   сотрудник     0   95856.832424   \n",
       "9   женат / замужем                 0      M   сотрудник     0  144425.938277   \n",
       "\n",
       "                      purpose  \n",
       "0               покупка жилья  \n",
       "1     приобретение автомобиля  \n",
       "2               покупка жилья  \n",
       "3  дополнительное образование  \n",
       "4             сыграть свадьбу  \n",
       "5               покупка жилья  \n",
       "6           операции с жильем  \n",
       "7                 образование  \n",
       "8       на проведение свадьбы  \n",
       "9     покупка жилья для семьи  "
      ]
     },
     "metadata": {},
     "output_type": "display_data"
    },
    {
     "name": "stdout",
     "output_type": "stream",
     "text": [
      "<class 'pandas.core.frame.DataFrame'>\n",
      "RangeIndex: 21525 entries, 0 to 21524\n",
      "Data columns (total 12 columns):\n",
      "children            21525 non-null int64\n",
      "days_employed       19351 non-null float64\n",
      "dob_years           21525 non-null int64\n",
      "education           21525 non-null object\n",
      "education_id        21525 non-null int64\n",
      "family_status       21525 non-null object\n",
      "family_status_id    21525 non-null int64\n",
      "gender              21525 non-null object\n",
      "income_type         21525 non-null object\n",
      "debt                21525 non-null int64\n",
      "total_income        19351 non-null float64\n",
      "purpose             21525 non-null object\n",
      "dtypes: float64(2), int64(5), object(5)\n",
      "memory usage: 2.0+ MB\n"
     ]
    }
   ],
   "source": [
    "#Импортирую необходимые библиотеки\n",
    "import pandas as pd\n",
    "\n",
    "from pymystem3 import Mystem\n",
    "m = Mystem() \n",
    "\n",
    "from collections import Counter\n",
    "\n",
    "#Открываю таблицу и сохраняю ее в переменной data\n",
    "data = pd.read_csv('/datasets/data.csv')\n",
    "\n",
    "#Ознакамливаюсь с первыми 10 строками таблицы\n",
    "display(data.head(10))\n",
    "\n",
    "#Ознакамливаюсь со свойствами датафрейма\n",
    "data.info()"
   ]
  },
  {
   "cell_type": "markdown",
   "metadata": {},
   "source": [
    "**Вывод**\n",
    "\n",
    "После получения общей информации о данных стало ясно, что в них есть несколько проблем, с которыми необходимо разобраться при предобработке, а именно:\n",
    "- в столбце **days_employed** указан общий трудовой стаж в днях, но в нем есть отрицательные значения, это противоречит логике.\n",
    "- в столбце **days_employed** есть неправдоподобные значения, например в 5 строке есть значение 340266 дней, это больше 900 лет.\n",
    "- в столбцах **days_employed** и **total_income** есть одинаковое количество пропусков.\n",
    "- в первых 10 строках уже видно неявные дубликаты в столбцах **education** и **purpose**.\n",
    "- тип данных указан некорректно для столбца **days_employed**, количество дней является целым числом, поэтому лучше использовать тип **int** вместо **float**.\n",
    "- тип данных указан некорректно для столбца **total_income**, точности значений, которую предоставляет тип **int** - достаточно."
   ]
  },
  {
   "cell_type": "markdown",
   "metadata": {},
   "source": [
    "## Предобработка данных"
   ]
  },
  {
   "cell_type": "markdown",
   "metadata": {},
   "source": [
    "### Обработка пропусков"
   ]
  },
  {
   "cell_type": "markdown",
   "metadata": {},
   "source": [
    "Количество пропусков в столбцах **days_employed** и **total_income** - одинаковое.\n",
    "\n",
    "Предполагаю, что пропуски в этих столбцах допущены в одних и тех же строках.\n",
    "Проверю это."
   ]
  },
  {
   "cell_type": "code",
   "execution_count": 2,
   "metadata": {},
   "outputs": [
    {
     "data": {
      "text/plain": [
       "2174"
      ]
     },
     "metadata": {},
     "output_type": "display_data"
    },
    {
     "data": {
      "text/plain": [
       "children               0\n",
       "days_employed       2174\n",
       "dob_years              0\n",
       "education              0\n",
       "education_id           0\n",
       "family_status          0\n",
       "family_status_id       0\n",
       "gender                 0\n",
       "income_type            0\n",
       "debt                   0\n",
       "total_income        2174\n",
       "purpose                0\n",
       "dtype: int64"
      ]
     },
     "metadata": {},
     "output_type": "display_data"
    }
   ],
   "source": [
    "#Создадим отдельный датафрейм, в который попадут строки с одновременно пропущенными значениями в обоих столбцах\n",
    "empty_data = data[data['days_employed'].isna() & data['total_income'].isna()]\n",
    "\n",
    "#Количество срок в датафрейме с пропусками\n",
    "display(empty_data.shape[0]) \n",
    "\n",
    "#Найдем количество пропусков в каждом из столбцов датафрейма data\n",
    "display(data.isna().sum())"
   ]
  },
  {
   "cell_type": "markdown",
   "metadata": {},
   "source": [
    "Длинна нового датафрейма со строками, где пропущены значения в обоих столбцах (**total_income**, **days_employed**) равна количеству пропусков в каждом из столбцов.\n",
    "Значит пропуски в данных столбцах допущены в одних и тех же строках.\n",
    "\n",
    "Мы столкнулись с пропусками неслучайного типа. Вероятно это системная ошибка, появившаяся при сборе или обработке данных банком. В настоящем исследовании необходимо было бы сообщить об этом банку и, возможно, получить датасет заново после исправления ошибки, без пропусков. В таком случае исследование было бы точнее."
   ]
  },
  {
   "cell_type": "markdown",
   "metadata": {},
   "source": [
    "Значения в столбце **days_employed** в данном исследовании нам не важны, заменим пропуски в данном столбце нулями."
   ]
  },
  {
   "cell_type": "code",
   "execution_count": 3,
   "metadata": {},
   "outputs": [],
   "source": [
    "#Заменим пропуски столбца 'days_employed' на 0\n",
    "data['days_employed'] = data['days_employed'].fillna(0)"
   ]
  },
  {
   "cell_type": "markdown",
   "metadata": {},
   "source": [
    "Пропуски в столбце **total_income**, в котором указан ежемесячный доход клиентов банка, для нас важен, так как в ходе исследования мы будем выявлять зависимость между уровнем дохода и возвратом кредита в срок.\n",
    "\n",
    "Заменю пропуски в столбце **total_income** на медианное значение ежемесечного дохода."
   ]
  },
  {
   "cell_type": "code",
   "execution_count": 4,
   "metadata": {},
   "outputs": [
    {
     "data": {
      "text/plain": [
       "children            0\n",
       "days_employed       0\n",
       "dob_years           0\n",
       "education           0\n",
       "education_id        0\n",
       "family_status       0\n",
       "family_status_id    0\n",
       "gender              0\n",
       "income_type         0\n",
       "debt                0\n",
       "total_income        0\n",
       "purpose             0\n",
       "dtype: int64"
      ]
     },
     "metadata": {},
     "output_type": "display_data"
    }
   ],
   "source": [
    "#Заполняю пропуски значением медианного ежемесячного дохода\n",
    "data['total_income'] = data['total_income'].fillna(data['total_income'].median())\n",
    "\n",
    "#Проверяю остались ли пропуски в датафрейме\n",
    "display(data.isna().sum())"
   ]
  },
  {
   "cell_type": "markdown",
   "metadata": {},
   "source": [
    "**Вывод**"
   ]
  },
  {
   "cell_type": "markdown",
   "metadata": {},
   "source": [
    "В данных были найдены пропуски в столбцах **total_income** и **days_employed**:\n",
    "\n",
    "- Пропуски в столбце **total_income** заменены медианным значением.\n",
    "- Пропуски в стобце **days_employed** заменены нулями, так как значения из столбца не участвуют в дальнейшем исследовании."
   ]
  },
  {
   "cell_type": "markdown",
   "metadata": {},
   "source": [
    "### Замена типа данных"
   ]
  },
  {
   "cell_type": "markdown",
   "metadata": {},
   "source": [
    "Заменим тип данных с вещественного на целочисленный.\n",
    "Воспользуемся методом **.astype('int')**, так как метод **to_numeric()** нам не подходит, он переводит значения в вещественный тип.\n"
   ]
  },
  {
   "cell_type": "code",
   "execution_count": 5,
   "metadata": {},
   "outputs": [],
   "source": [
    "#Заменим тип данных для столбца total_income\n",
    "data['total_income'] = data['total_income'].astype('int')"
   ]
  },
  {
   "cell_type": "code",
   "execution_count": 6,
   "metadata": {},
   "outputs": [
    {
     "name": "stdout",
     "output_type": "stream",
     "text": [
      "<class 'pandas.core.frame.DataFrame'>\n",
      "RangeIndex: 21525 entries, 0 to 21524\n",
      "Data columns (total 12 columns):\n",
      "children            21525 non-null int64\n",
      "days_employed       21525 non-null int64\n",
      "dob_years           21525 non-null int64\n",
      "education           21525 non-null object\n",
      "education_id        21525 non-null int64\n",
      "family_status       21525 non-null object\n",
      "family_status_id    21525 non-null int64\n",
      "gender              21525 non-null object\n",
      "income_type         21525 non-null object\n",
      "debt                21525 non-null int64\n",
      "total_income        21525 non-null int64\n",
      "purpose             21525 non-null object\n",
      "dtypes: int64(7), object(5)\n",
      "memory usage: 2.0+ MB\n"
     ]
    }
   ],
   "source": [
    "#Заменим тип данных для столбца days_employed\n",
    "data['days_employed'] = data['days_employed'].astype('int')\n",
    "#Проверим корректно ли изменен тип данных в столбцах\n",
    "data.info()"
   ]
  },
  {
   "cell_type": "markdown",
   "metadata": {},
   "source": [
    "Также в этом столбце замечены ошибки:\n",
    "\n",
    " - общий трудовой стаж указан в днях, но в нем есть отрицательные значения, это противоречит логике.\n",
    " - присутствуют неправдоподобные значения, например в 5 строке есть значение 340266 дней, это больше 900 лет.\n",
    "\n",
    "Проанализируем их."
   ]
  },
  {
   "cell_type": "code",
   "execution_count": 7,
   "metadata": {},
   "outputs": [],
   "source": [
    "#Заменим отрицательные значения их модулем.\n",
    "data['days_employed'] = data['days_employed'].abs()"
   ]
  },
  {
   "cell_type": "code",
   "execution_count": 8,
   "metadata": {},
   "outputs": [
    {
     "data": {
      "text/plain": [
       "<matplotlib.axes._subplots.AxesSubplot at 0x7f46dcb49150>"
      ]
     },
     "execution_count": 8,
     "metadata": {},
     "output_type": "execute_result"
    },
    {
     "data": {
      "image/png": "[encoded data removed]",
      "text/plain": [
       "<Figure size 432x288 with 1 Axes>"
      ]
     },
     "metadata": {
      "needs_background": "light"
     },
     "output_type": "display_data"
    }
   ],
   "source": [
    "#Построим диаграмму рассеяния трудового стажа и возраста клиентов, чтобы проанализировать значения.\n",
    "data.plot(x = 'dob_years', y = 'days_employed', kind = 'scatter')"
   ]
  },
  {
   "cell_type": "markdown",
   "metadata": {},
   "source": [
    "Отрицательные значения трудового стажа успешно обработаны.\n",
    "\n",
    "\n",
    "Распределение в правом нижнем углу - нормальное. Значения появляются с возраста, в котором становится доступен такой инструмент, как кредит, трудовой стаж растет вместе с возрастом клиента.\n",
    "\n",
    "\n",
    "Все верхние значения - аномальные, трудовой стаж в этих точках сильно превышает продолжительность жизни человека, здесь явно присутствует ошибка в сборе, обработке или передаче данных.\n",
    "\n",
    "\n",
    "Существуют значения трудового стажа для людей, возраст которых равен 0, явная ошибка значений возраста для этих значений."
   ]
  },
  {
   "cell_type": "markdown",
   "metadata": {},
   "source": [
    "**Вывод**"
   ]
  },
  {
   "cell_type": "markdown",
   "metadata": {},
   "source": [
    "Тип данных столбца **days_employed** корректно изменен на **int** c помощью метода **.astype()**.\n",
    "\n",
    "Найдены ошибки в данных, в столбцах **dob_years** и **days_employed**, которые не помешают исследованию, но будут интересны для изучения заказчику."
   ]
  },
  {
   "cell_type": "markdown",
   "metadata": {},
   "source": [
    "### Обработка ошибок в данных"
   ]
  },
  {
   "cell_type": "markdown",
   "metadata": {},
   "source": [
    "Для ответа на поставленные вопросы, нам понадобится использовать данные из столбца **children**, проверим его."
   ]
  },
  {
   "cell_type": "code",
   "execution_count": 9,
   "metadata": {},
   "outputs": [
    {
     "data": {
      "text/plain": [
       " 0     14149\n",
       " 1      4818\n",
       " 2      2055\n",
       " 3       330\n",
       " 20       76\n",
       "-1        47\n",
       " 4        41\n",
       " 5         9\n",
       "Name: children, dtype: int64"
      ]
     },
     "execution_count": 9,
     "metadata": {},
     "output_type": "execute_result"
    }
   ],
   "source": [
    "#Посмотрим уникальные значения в столбце и их частоту в датасете\n",
    "data['children'].value_counts()"
   ]
  },
  {
   "cell_type": "markdown",
   "metadata": {},
   "source": [
    "Видим две явные ошибки: \n",
    "- количество детей не может быть отрицательным\n",
    "- количество семей с 20-ью не может быть больше количества семей с 4 или 5 детьми\n",
    "\n",
    "Значения -1 и 20 скорее всего обусловлены опечатками при заполнении анкет клиентами/работниками банка."
   ]
  },
  {
   "cell_type": "code",
   "execution_count": 10,
   "metadata": {},
   "outputs": [
    {
     "data": {
      "text/plain": [
       "0    14149\n",
       "1     4865\n",
       "2     2131\n",
       "3      330\n",
       "4       41\n",
       "5        9\n",
       "Name: children, dtype: int64"
      ]
     },
     "execution_count": 10,
     "metadata": {},
     "output_type": "execute_result"
    }
   ],
   "source": [
    "#Заменим отрицателньые значения их модулем\n",
    "data['children'] = data['children'].abs()\n",
    "\n",
    "#Заменим число 20 на число 2\n",
    "data['children'] = data['children'].replace(20, 2)\n",
    "\n",
    "#Cнова проверим уникальные значения\n",
    "data['children'].value_counts()"
   ]
  },
  {
   "cell_type": "markdown",
   "metadata": {},
   "source": [
    "**Вывод**"
   ]
  },
  {
   "cell_type": "markdown",
   "metadata": {},
   "source": [
    "Выявленные ошибки исправлены.\n",
    "\n",
    "Необходимо сообщить заказчику об их присутствии в датасете, эта информация может быть полезна, она может повлечь за собой улучшение методики сбора данных."
   ]
  },
  {
   "cell_type": "markdown",
   "metadata": {},
   "source": [
    "### Обработка дубликатов"
   ]
  },
  {
   "cell_type": "markdown",
   "metadata": {},
   "source": [
    "#### Обработка явных дубликатов"
   ]
  },
  {
   "cell_type": "code",
   "execution_count": 11,
   "metadata": {},
   "outputs": [
    {
     "data": {
      "text/plain": [
       "54"
      ]
     },
     "execution_count": 11,
     "metadata": {},
     "output_type": "execute_result"
    }
   ],
   "source": [
    "#Посчиатем количество явных дубликатов\n",
    "data.duplicated().sum()"
   ]
  },
  {
   "cell_type": "code",
   "execution_count": 12,
   "metadata": {},
   "outputs": [
    {
     "data": {
      "text/html": [
       "<div>\n",
       "<style scoped>\n",
       "    .dataframe tbody tr th:only-of-type {\n",
       "        vertical-align: middle;\n",
       "    }\n",
       "\n",
       "    .dataframe tbody tr th {\n",
       "        vertical-align: top;\n",
       "    }\n",
       "\n",
       "    .dataframe thead th {\n",
       "        text-align: right;\n",
       "    }\n",
       "</style>\n",
       "<table border=\"1\" class=\"dataframe\">\n",
       "  <thead>\n",
       "    <tr style=\"text-align: right;\">\n",
       "      <th></th>\n",
       "      <th>children</th>\n",
       "      <th>days_employed</th>\n",
       "      <th>dob_years</th>\n",
       "      <th>education</th>\n",
       "      <th>education_id</th>\n",
       "      <th>family_status</th>\n",
       "      <th>family_status_id</th>\n",
       "      <th>gender</th>\n",
       "      <th>income_type</th>\n",
       "      <th>debt</th>\n",
       "      <th>total_income</th>\n",
       "      <th>purpose</th>\n",
       "    </tr>\n",
       "  </thead>\n",
       "  <tbody>\n",
       "    <tr>\n",
       "      <td>2849</td>\n",
       "      <td>0</td>\n",
       "      <td>0</td>\n",
       "      <td>41</td>\n",
       "      <td>среднее</td>\n",
       "      <td>1</td>\n",
       "      <td>женат / замужем</td>\n",
       "      <td>0</td>\n",
       "      <td>F</td>\n",
       "      <td>сотрудник</td>\n",
       "      <td>0</td>\n",
       "      <td>145017</td>\n",
       "      <td>покупка жилья для семьи</td>\n",
       "    </tr>\n",
       "    <tr>\n",
       "      <td>4182</td>\n",
       "      <td>1</td>\n",
       "      <td>0</td>\n",
       "      <td>34</td>\n",
       "      <td>ВЫСШЕЕ</td>\n",
       "      <td>0</td>\n",
       "      <td>гражданский брак</td>\n",
       "      <td>1</td>\n",
       "      <td>F</td>\n",
       "      <td>сотрудник</td>\n",
       "      <td>0</td>\n",
       "      <td>145017</td>\n",
       "      <td>свадьба</td>\n",
       "    </tr>\n",
       "    <tr>\n",
       "      <td>4851</td>\n",
       "      <td>0</td>\n",
       "      <td>0</td>\n",
       "      <td>60</td>\n",
       "      <td>среднее</td>\n",
       "      <td>1</td>\n",
       "      <td>гражданский брак</td>\n",
       "      <td>1</td>\n",
       "      <td>F</td>\n",
       "      <td>пенсионер</td>\n",
       "      <td>0</td>\n",
       "      <td>145017</td>\n",
       "      <td>свадьба</td>\n",
       "    </tr>\n",
       "    <tr>\n",
       "      <td>5557</td>\n",
       "      <td>0</td>\n",
       "      <td>0</td>\n",
       "      <td>58</td>\n",
       "      <td>среднее</td>\n",
       "      <td>1</td>\n",
       "      <td>гражданский брак</td>\n",
       "      <td>1</td>\n",
       "      <td>F</td>\n",
       "      <td>пенсионер</td>\n",
       "      <td>0</td>\n",
       "      <td>145017</td>\n",
       "      <td>сыграть свадьбу</td>\n",
       "    </tr>\n",
       "    <tr>\n",
       "      <td>7808</td>\n",
       "      <td>0</td>\n",
       "      <td>0</td>\n",
       "      <td>57</td>\n",
       "      <td>среднее</td>\n",
       "      <td>1</td>\n",
       "      <td>гражданский брак</td>\n",
       "      <td>1</td>\n",
       "      <td>F</td>\n",
       "      <td>пенсионер</td>\n",
       "      <td>0</td>\n",
       "      <td>145017</td>\n",
       "      <td>на проведение свадьбы</td>\n",
       "    </tr>\n",
       "    <tr>\n",
       "      <td>8583</td>\n",
       "      <td>0</td>\n",
       "      <td>0</td>\n",
       "      <td>58</td>\n",
       "      <td>высшее</td>\n",
       "      <td>0</td>\n",
       "      <td>Не женат / не замужем</td>\n",
       "      <td>4</td>\n",
       "      <td>F</td>\n",
       "      <td>пенсионер</td>\n",
       "      <td>0</td>\n",
       "      <td>145017</td>\n",
       "      <td>дополнительное образование</td>\n",
       "    </tr>\n",
       "    <tr>\n",
       "      <td>9238</td>\n",
       "      <td>2</td>\n",
       "      <td>0</td>\n",
       "      <td>34</td>\n",
       "      <td>среднее</td>\n",
       "      <td>1</td>\n",
       "      <td>женат / замужем</td>\n",
       "      <td>0</td>\n",
       "      <td>F</td>\n",
       "      <td>сотрудник</td>\n",
       "      <td>0</td>\n",
       "      <td>145017</td>\n",
       "      <td>покупка жилья для сдачи</td>\n",
       "    </tr>\n",
       "    <tr>\n",
       "      <td>9528</td>\n",
       "      <td>0</td>\n",
       "      <td>0</td>\n",
       "      <td>66</td>\n",
       "      <td>среднее</td>\n",
       "      <td>1</td>\n",
       "      <td>вдовец / вдова</td>\n",
       "      <td>2</td>\n",
       "      <td>F</td>\n",
       "      <td>пенсионер</td>\n",
       "      <td>0</td>\n",
       "      <td>145017</td>\n",
       "      <td>операции со своей недвижимостью</td>\n",
       "    </tr>\n",
       "    <tr>\n",
       "      <td>9627</td>\n",
       "      <td>0</td>\n",
       "      <td>0</td>\n",
       "      <td>56</td>\n",
       "      <td>среднее</td>\n",
       "      <td>1</td>\n",
       "      <td>женат / замужем</td>\n",
       "      <td>0</td>\n",
       "      <td>F</td>\n",
       "      <td>пенсионер</td>\n",
       "      <td>0</td>\n",
       "      <td>145017</td>\n",
       "      <td>операции со своей недвижимостью</td>\n",
       "    </tr>\n",
       "    <tr>\n",
       "      <td>10462</td>\n",
       "      <td>0</td>\n",
       "      <td>0</td>\n",
       "      <td>62</td>\n",
       "      <td>среднее</td>\n",
       "      <td>1</td>\n",
       "      <td>женат / замужем</td>\n",
       "      <td>0</td>\n",
       "      <td>F</td>\n",
       "      <td>пенсионер</td>\n",
       "      <td>0</td>\n",
       "      <td>145017</td>\n",
       "      <td>покупка коммерческой недвижимости</td>\n",
       "    </tr>\n",
       "  </tbody>\n",
       "</table>\n",
       "</div>"
      ],
      "text/plain": [
       "       children  days_employed  dob_years education  education_id  \\\n",
       "2849          0              0         41   среднее             1   \n",
       "4182          1              0         34    ВЫСШЕЕ             0   \n",
       "4851          0              0         60   среднее             1   \n",
       "5557          0              0         58   среднее             1   \n",
       "7808          0              0         57   среднее             1   \n",
       "8583          0              0         58    высшее             0   \n",
       "9238          2              0         34   среднее             1   \n",
       "9528          0              0         66   среднее             1   \n",
       "9627          0              0         56   среднее             1   \n",
       "10462         0              0         62   среднее             1   \n",
       "\n",
       "               family_status  family_status_id gender income_type  debt  \\\n",
       "2849         женат / замужем                 0      F   сотрудник     0   \n",
       "4182        гражданский брак                 1      F   сотрудник     0   \n",
       "4851        гражданский брак                 1      F   пенсионер     0   \n",
       "5557        гражданский брак                 1      F   пенсионер     0   \n",
       "7808        гражданский брак                 1      F   пенсионер     0   \n",
       "8583   Не женат / не замужем                 4      F   пенсионер     0   \n",
       "9238         женат / замужем                 0      F   сотрудник     0   \n",
       "9528          вдовец / вдова                 2      F   пенсионер     0   \n",
       "9627         женат / замужем                 0      F   пенсионер     0   \n",
       "10462        женат / замужем                 0      F   пенсионер     0   \n",
       "\n",
       "       total_income                            purpose  \n",
       "2849         145017            покупка жилья для семьи  \n",
       "4182         145017                            свадьба  \n",
       "4851         145017                            свадьба  \n",
       "5557         145017                    сыграть свадьбу  \n",
       "7808         145017              на проведение свадьбы  \n",
       "8583         145017         дополнительное образование  \n",
       "9238         145017            покупка жилья для сдачи  \n",
       "9528         145017    операции со своей недвижимостью  \n",
       "9627         145017    операции со своей недвижимостью  \n",
       "10462        145017  покупка коммерческой недвижимости  "
      ]
     },
     "execution_count": 12,
     "metadata": {},
     "output_type": "execute_result"
    }
   ],
   "source": [
    "#Выведем несколько строк с явными дубликатами, чтобы их проанализировать\n",
    "duplicated_data = data[data.duplicated()]\n",
    "duplicated_data.head(10)"
   ]
  },
  {
   "cell_type": "code",
   "execution_count": 13,
   "metadata": {},
   "outputs": [
    {
     "data": {
      "text/plain": [
       "0.2508710801393728"
      ]
     },
     "metadata": {},
     "output_type": "display_data"
    }
   ],
   "source": [
    "#Посчитаем процентное отношение количества дубликатов к длинне датасета\n",
    "duplicate_percentage = duplicated_data.shape[0] / data.shape[0] * 100\n",
    "display(duplicate_percentage)"
   ]
  },
  {
   "cell_type": "markdown",
   "metadata": {},
   "source": [
    "Дубликатов всего 54 строки. Это очень малое количество (0,25%) относительно количества строк во всем датасете, ими можно принебречь.  \n",
    "Удалим их, и переназначим индексы строк с помощью методов **.drop_duplicates()** и **.reset_index(drop=True)**"
   ]
  },
  {
   "cell_type": "code",
   "execution_count": 14,
   "metadata": {},
   "outputs": [],
   "source": [
    "#Удаляю явные дубликаты с обновление индексов строк\n",
    "data = data.drop_duplicates().reset_index(drop=True)"
   ]
  },
  {
   "cell_type": "code",
   "execution_count": 15,
   "metadata": {},
   "outputs": [
    {
     "data": {
      "text/plain": [
       "0"
      ]
     },
     "execution_count": 15,
     "metadata": {},
     "output_type": "execute_result"
    }
   ],
   "source": [
    "#Проверяю не осталось ли дубликатов\n",
    "data.duplicated().sum()"
   ]
  },
  {
   "cell_type": "markdown",
   "metadata": {},
   "source": [
    "#### Обработка неявных дубликатов"
   ]
  },
  {
   "cell_type": "markdown",
   "metadata": {},
   "source": [
    "Обработаем неявные дубликаты в столбце **education**:"
   ]
  },
  {
   "cell_type": "code",
   "execution_count": 16,
   "metadata": {},
   "outputs": [
    {
     "data": {
      "text/plain": [
       "array(['высшее', 'среднее', 'Среднее', 'СРЕДНЕЕ', 'ВЫСШЕЕ',\n",
       "       'неоконченное высшее', 'начальное', 'Высшее',\n",
       "       'НЕОКОНЧЕННОЕ ВЫСШЕЕ', 'Неоконченное высшее', 'НАЧАЛЬНОЕ',\n",
       "       'Начальное', 'Ученая степень', 'УЧЕНАЯ СТЕПЕНЬ', 'ученая степень'],\n",
       "      dtype=object)"
      ]
     },
     "execution_count": 16,
     "metadata": {},
     "output_type": "execute_result"
    }
   ],
   "source": [
    "#Найдем неявные дубликаты\n",
    "data['education'].unique()"
   ]
  },
  {
   "cell_type": "markdown",
   "metadata": {},
   "source": [
    "Различия в значениях только в регистре, поэтому воспользуемся методом **.lower()**"
   ]
  },
  {
   "cell_type": "code",
   "execution_count": 17,
   "metadata": {},
   "outputs": [
    {
     "data": {
      "text/plain": [
       "array(['высшее', 'среднее', 'неоконченное высшее', 'начальное',\n",
       "       'ученая степень'], dtype=object)"
      ]
     },
     "execution_count": 17,
     "metadata": {},
     "output_type": "execute_result"
    }
   ],
   "source": [
    "#Приводим все значения в столбце education к нижнему регистру\n",
    "data['education'] = data['education'].str.lower()\n",
    "#Проверим остались ли неявные дубликаты\n",
    "data['education'].unique()"
   ]
  },
  {
   "cell_type": "markdown",
   "metadata": {},
   "source": [
    "**Вывод**"
   ]
  },
  {
   "cell_type": "markdown",
   "metadata": {},
   "source": [
    "Можно улучшить систему сбора данных при сборе информации об уровне образования клиента для избежания появления неявных дубликатов в данных.\n",
    "\n",
    "Например, можно сделать выпадающий список в анкете, которую заполняет клиент или работник банка, что исключит разные версии написания информации об уровне образования."
   ]
  },
  {
   "cell_type": "markdown",
   "metadata": {},
   "source": [
    "### Лемматизация"
   ]
  },
  {
   "cell_type": "code",
   "execution_count": 18,
   "metadata": {},
   "outputs": [
    {
     "data": {
      "text/plain": [
       "array(['покупка жилья', 'приобретение автомобиля',\n",
       "       'дополнительное образование', 'сыграть свадьбу',\n",
       "       'операции с жильем', 'образование', 'на проведение свадьбы',\n",
       "       'покупка жилья для семьи', 'покупка недвижимости',\n",
       "       'покупка коммерческой недвижимости', 'покупка жилой недвижимости',\n",
       "       'строительство собственной недвижимости', 'недвижимость',\n",
       "       'строительство недвижимости', 'на покупку подержанного автомобиля',\n",
       "       'на покупку своего автомобиля',\n",
       "       'операции с коммерческой недвижимостью',\n",
       "       'строительство жилой недвижимости', 'жилье',\n",
       "       'операции со своей недвижимостью', 'автомобили',\n",
       "       'заняться образованием', 'сделка с подержанным автомобилем',\n",
       "       'получение образования', 'автомобиль', 'свадьба',\n",
       "       'получение дополнительного образования', 'покупка своего жилья',\n",
       "       'операции с недвижимостью', 'получение высшего образования',\n",
       "       'свой автомобиль', 'сделка с автомобилем',\n",
       "       'профильное образование', 'высшее образование',\n",
       "       'покупка жилья для сдачи', 'на покупку автомобиля', 'ремонт жилью',\n",
       "       'заняться высшим образованием'], dtype=object)"
      ]
     },
     "execution_count": 18,
     "metadata": {},
     "output_type": "execute_result"
    }
   ],
   "source": [
    "#Найдем неявные дубликаты в столбце purpose\n",
    "all_purposes = data['purpose'].unique()\n",
    "all_purposes"
   ]
  },
  {
   "cell_type": "markdown",
   "metadata": {},
   "source": [
    "Из полученного списка можно выделить 4 группы целей получения кредита:\n",
    "- Приобретение недвижимости\n",
    "- Приобретение автомобиля\n",
    "- Получение образования\n",
    "- Проведение свадьбы"
   ]
  },
  {
   "cell_type": "code",
   "execution_count": 19,
   "metadata": {},
   "outputs": [
    {
     "data": {
      "text/plain": [
       "'покупка жилья приобретение автомобиля дополнительное образование сыграть свадьбу операции с жильем образование на проведение свадьбы покупка жилья для семьи покупка недвижимости покупка коммерческой недвижимости покупка жилой недвижимости строительство собственной недвижимости недвижимость строительство недвижимости на покупку подержанного автомобиля на покупку своего автомобиля операции с коммерческой недвижимостью строительство жилой недвижимости жилье операции со своей недвижимостью автомобили заняться образованием сделка с подержанным автомобилем получение образования автомобиль свадьба получение дополнительного образования покупка своего жилья операции с недвижимостью получение высшего образования свой автомобиль сделка с автомобилем профильное образование высшее образование покупка жилья для сдачи на покупку автомобиля ремонт жилью заняться высшим образованием '"
      ]
     },
     "execution_count": 19,
     "metadata": {},
     "output_type": "execute_result"
    }
   ],
   "source": [
    "#Переведем список в строку с помощью цикла\n",
    "all_purposes_str = ''\n",
    "\n",
    "for purpose in all_purposes:\n",
    "    all_purposes_str += purpose +' '\n",
    "    \n",
    "all_purposes_str"
   ]
  },
  {
   "cell_type": "code",
   "execution_count": 20,
   "metadata": {},
   "outputs": [
    {
     "data": {
      "text/plain": [
       "Counter({'покупка': 10,\n",
       "         ' ': 96,\n",
       "         'жилье': 7,\n",
       "         'приобретение': 1,\n",
       "         'автомобиль': 9,\n",
       "         'дополнительный': 2,\n",
       "         'образование': 9,\n",
       "         'сыграть': 1,\n",
       "         'свадьба': 3,\n",
       "         'операция': 4,\n",
       "         'с': 5,\n",
       "         'на': 4,\n",
       "         'проведение': 1,\n",
       "         'для': 2,\n",
       "         'семья': 1,\n",
       "         'недвижимость': 10,\n",
       "         'коммерческий': 2,\n",
       "         'жилой': 2,\n",
       "         'строительство': 3,\n",
       "         'собственный': 1,\n",
       "         'подержать': 2,\n",
       "         'свой': 4,\n",
       "         'со': 1,\n",
       "         'заниматься': 2,\n",
       "         'сделка': 2,\n",
       "         'получение': 3,\n",
       "         'высокий': 3,\n",
       "         'профильный': 1,\n",
       "         'сдача': 1,\n",
       "         'ремонт': 1,\n",
       "         ' \\n': 1})"
      ]
     },
     "execution_count": 20,
     "metadata": {},
     "output_type": "execute_result"
    }
   ],
   "source": [
    "#Лемматизируем полученную строку\n",
    "lemmas = m.lemmatize(all_purposes_str)\n",
    "Counter(lemmas)"
   ]
  },
  {
   "cell_type": "markdown",
   "metadata": {},
   "source": [
    "Благодаря счетчику лемм, определяю определяющие леммы для каждой категории цели:\n",
    "- Приобретение недвижимости (жилье, недвижимость)\n",
    "- Приобретение автомобиля (автомобиль)\n",
    "- Получение образования (образование)\n",
    "- Проведение свадьбы (свадьба)"
   ]
  },
  {
   "cell_type": "markdown",
   "metadata": {},
   "source": [
    "**Вывод**"
   ]
  },
  {
   "cell_type": "markdown",
   "metadata": {},
   "source": [
    "Определили леммы для последующей категоризации целей получения кредита."
   ]
  },
  {
   "cell_type": "markdown",
   "metadata": {},
   "source": [
    "### Категоризация данных"
   ]
  },
  {
   "cell_type": "markdown",
   "metadata": {},
   "source": [
    "#### Категоризация по цели получения кредита"
   ]
  },
  {
   "cell_type": "markdown",
   "metadata": {},
   "source": [
    "Для ответа на поставленный вопрос \"Как разные цели кредита влияют на его возврат в срок?\" необходимо категоризировать цели получения кредита, воспользуемся полученными определяющими леммами."
   ]
  },
  {
   "cell_type": "code",
   "execution_count": 21,
   "metadata": {},
   "outputs": [],
   "source": [
    "#Функция для категоризации значений с помощью лемм\n",
    "def categorize_by_purpose(purpose):\n",
    "    \n",
    "    lemma = m.lemmatize(purpose)\n",
    "    \n",
    "    if 'жилье' in lemma:\n",
    "        return 'Приобретение недвижимости'\n",
    "    \n",
    "    if 'недвижимость' in lemma:\n",
    "        return 'Приобретение недвижимости'\n",
    "    \n",
    "    if 'автомобиль' in lemma:\n",
    "        return 'Приобретение автомобиля'\n",
    "    \n",
    "    if 'образование' in lemma:\n",
    "        return 'Получение образования'\n",
    "    \n",
    "    if 'свадьба' in lemma:\n",
    "        return 'Проведение свадьбы'"
   ]
  },
  {
   "cell_type": "code",
   "execution_count": 22,
   "metadata": {},
   "outputs": [
    {
     "data": {
      "text/plain": [
       "array(['Приобретение недвижимости', 'Приобретение автомобиля',\n",
       "       'Получение образования', 'Проведение свадьбы'], dtype=object)"
      ]
     },
     "metadata": {},
     "output_type": "display_data"
    }
   ],
   "source": [
    "#Создадим новый столбец с результатами работы созданной функции \n",
    "data['categorized_purpose'] = data['purpose'].apply(categorize_by_purpose)\n",
    "\n",
    "#Проверим значения нового столбца\n",
    "display(data['categorized_purpose'].unique())"
   ]
  },
  {
   "cell_type": "markdown",
   "metadata": {},
   "source": [
    "Каждому значению из столбца **purpose** присвоена своя категория."
   ]
  },
  {
   "cell_type": "markdown",
   "metadata": {},
   "source": [
    "#### Категоризация по наличию детей"
   ]
  },
  {
   "cell_type": "markdown",
   "metadata": {},
   "source": [
    "Приступим к категоризации значений из столбца **children**.\n",
    "\n",
    "Чтобы ответить на вопрос \"Есть ли зависимость между наличием детей и возвратом кредита в срок?\" необходимо создать 2 категории:\n",
    "- Нет детей\n",
    "- Есть дети"
   ]
  },
  {
   "cell_type": "code",
   "execution_count": 23,
   "metadata": {},
   "outputs": [],
   "source": [
    "#Функция для категоризации значений столбца children\n",
    "def categorize_by_children(children):\n",
    "    if children == 0:\n",
    "        return 'Нет детей'\n",
    "    if children > 0:\n",
    "        return 'Есть дети'"
   ]
  },
  {
   "cell_type": "code",
   "execution_count": 24,
   "metadata": {},
   "outputs": [
    {
     "data": {
      "text/plain": [
       "array(['Есть дети', 'Нет детей'], dtype=object)"
      ]
     },
     "metadata": {},
     "output_type": "display_data"
    }
   ],
   "source": [
    "#Создадим новый столбец с результатами работы функции categorize_by_children\n",
    "data['categorized_children'] = data['children'].apply(categorize_by_children)\n",
    "\n",
    "#Проверим значения нового столбца\n",
    "display(data['categorized_children'].unique())"
   ]
  },
  {
   "cell_type": "markdown",
   "metadata": {},
   "source": [
    "Каждому значению из столбца **children** присвоена своя категория."
   ]
  },
  {
   "cell_type": "markdown",
   "metadata": {},
   "source": [
    "#### Категоризация по уровню дохода"
   ]
  },
  {
   "cell_type": "markdown",
   "metadata": {},
   "source": [
    "Для ответа на вопрос \"Есть ли зависимость между уровнем дохода и возвратом кредита в срок?\" необходимо категоризировать значения ежемесячного дохода."
   ]
  },
  {
   "cell_type": "code",
   "execution_count": 25,
   "metadata": {},
   "outputs": [
    {
     "data": {
      "text/plain": [
       "20667"
      ]
     },
     "metadata": {},
     "output_type": "display_data"
    },
    {
     "data": {
      "text/plain": [
       "2265604"
      ]
     },
     "metadata": {},
     "output_type": "display_data"
    }
   ],
   "source": [
    "#Найдем минимальное и максимальное значение в столбце\n",
    "display(data['total_income'].min(), data['total_income'].max())"
   ]
  },
  {
   "cell_type": "markdown",
   "metadata": {},
   "source": [
    "Выделил следующие категории:\n",
    "- Выше бедности (20,000 - 30,000)\n",
    "- Средний достаток (30,000 - 60,000)\n",
    "- Состоятельные (60,000 - 90,000)\n",
    "- Богатые (90,000 - 150,000)\n",
    "- Сверхбогатые (от 150,000)"
   ]
  },
  {
   "cell_type": "code",
   "execution_count": 26,
   "metadata": {},
   "outputs": [],
   "source": [
    "#Функция для категоризации значений столбца total_income\n",
    "def categorize_by_income(income):\n",
    "    if 20000 < income < 30000:\n",
    "        return 'Выше бедности'\n",
    "    if 30000 < income < 60000:\n",
    "        return 'Средний достаток'\n",
    "    if 60000 < income < 90000:\n",
    "        return 'Состоятельные'\n",
    "    if 90000 < income < 150000:\n",
    "        return 'Богатые'\n",
    "    if income > 150000:\n",
    "        return 'Сверхбогатые'"
   ]
  },
  {
   "cell_type": "code",
   "execution_count": 27,
   "metadata": {},
   "outputs": [
    {
     "data": {
      "text/plain": [
       "Сверхбогатые        9184\n",
       "Богатые             8939\n",
       "Состоятельные       2542\n",
       "Средний достаток     784\n",
       "Выше бедности         22\n",
       "Name: categorized_income, dtype: int64"
      ]
     },
     "metadata": {},
     "output_type": "display_data"
    }
   ],
   "source": [
    "#Создадим новый столбец с результатами работы функции categorize_by_income\n",
    "data['categorized_income'] = data['total_income'].apply(categorize_by_income)\n",
    "\n",
    "#Проверим значения нового столбца\n",
    "display(data['categorized_income'].value_counts())"
   ]
  },
  {
   "cell_type": "markdown",
   "metadata": {},
   "source": [
    "**Вывод**"
   ]
  },
  {
   "cell_type": "markdown",
   "metadata": {},
   "source": [
    "Для последующего анализа была проведена категоризация по **целям получения кредита**, **наличию детей** и **уровню дохода**.\n",
    "\n",
    "Были выделены следуюзие категории:\n",
    "\n",
    "**Цели получения кредита**:\n",
    "- Приобретение недвижимости\n",
    "- Приобретение автомобиля\n",
    "- Получение образования\n",
    "- Проведение свадьбы\n",
    "\n",
    "**Наличие детей**:\n",
    "- Нет детей\n",
    "- Есть дети\n",
    "\n",
    "**Уровень дохода**:\n",
    "- Сверхбогатые\n",
    "- Богатые\n",
    "- Состоятельные\n",
    "- Средний достаток\n",
    "- Выше бедности\n",
    "\n"
   ]
  },
  {
   "cell_type": "markdown",
   "metadata": {},
   "source": [
    "## Ответьте на вопросы"
   ]
  },
  {
   "cell_type": "markdown",
   "metadata": {},
   "source": [
    "- Есть ли зависимость между наличием детей и возвратом кредита в срок?"
   ]
  },
  {
   "cell_type": "markdown",
   "metadata": {},
   "source": [
    "Создадим таблицу, где соберем только необходимые данные для ответа на данный вопрос, а именно: наличие детей и имел ли клиеинт задолженность по возврату кредитов."
   ]
  },
  {
   "cell_type": "code",
   "execution_count": 28,
   "metadata": {},
   "outputs": [
    {
     "data": {
      "text/html": [
       "<div>\n",
       "<style scoped>\n",
       "    .dataframe tbody tr th:only-of-type {\n",
       "        vertical-align: middle;\n",
       "    }\n",
       "\n",
       "    .dataframe tbody tr th {\n",
       "        vertical-align: top;\n",
       "    }\n",
       "\n",
       "    .dataframe thead th {\n",
       "        text-align: right;\n",
       "    }\n",
       "</style>\n",
       "<table border=\"1\" class=\"dataframe\">\n",
       "  <thead>\n",
       "    <tr style=\"text-align: right;\">\n",
       "      <th></th>\n",
       "      <th>categorized_children</th>\n",
       "      <th>debt</th>\n",
       "      <th>children</th>\n",
       "    </tr>\n",
       "  </thead>\n",
       "  <tbody>\n",
       "    <tr>\n",
       "      <td>0</td>\n",
       "      <td>Есть дети</td>\n",
       "      <td>0</td>\n",
       "      <td>1</td>\n",
       "    </tr>\n",
       "    <tr>\n",
       "      <td>1</td>\n",
       "      <td>Есть дети</td>\n",
       "      <td>0</td>\n",
       "      <td>1</td>\n",
       "    </tr>\n",
       "    <tr>\n",
       "      <td>2</td>\n",
       "      <td>Нет детей</td>\n",
       "      <td>0</td>\n",
       "      <td>0</td>\n",
       "    </tr>\n",
       "    <tr>\n",
       "      <td>3</td>\n",
       "      <td>Есть дети</td>\n",
       "      <td>0</td>\n",
       "      <td>3</td>\n",
       "    </tr>\n",
       "    <tr>\n",
       "      <td>4</td>\n",
       "      <td>Нет детей</td>\n",
       "      <td>0</td>\n",
       "      <td>0</td>\n",
       "    </tr>\n",
       "    <tr>\n",
       "      <td>...</td>\n",
       "      <td>...</td>\n",
       "      <td>...</td>\n",
       "      <td>...</td>\n",
       "    </tr>\n",
       "    <tr>\n",
       "      <td>21466</td>\n",
       "      <td>Есть дети</td>\n",
       "      <td>0</td>\n",
       "      <td>1</td>\n",
       "    </tr>\n",
       "    <tr>\n",
       "      <td>21467</td>\n",
       "      <td>Нет детей</td>\n",
       "      <td>0</td>\n",
       "      <td>0</td>\n",
       "    </tr>\n",
       "    <tr>\n",
       "      <td>21468</td>\n",
       "      <td>Есть дети</td>\n",
       "      <td>1</td>\n",
       "      <td>1</td>\n",
       "    </tr>\n",
       "    <tr>\n",
       "      <td>21469</td>\n",
       "      <td>Есть дети</td>\n",
       "      <td>1</td>\n",
       "      <td>3</td>\n",
       "    </tr>\n",
       "    <tr>\n",
       "      <td>21470</td>\n",
       "      <td>Есть дети</td>\n",
       "      <td>0</td>\n",
       "      <td>2</td>\n",
       "    </tr>\n",
       "  </tbody>\n",
       "</table>\n",
       "<p>21471 rows × 3 columns</p>\n",
       "</div>"
      ],
      "text/plain": [
       "      categorized_children  debt  children\n",
       "0                Есть дети     0         1\n",
       "1                Есть дети     0         1\n",
       "2                Нет детей     0         0\n",
       "3                Есть дети     0         3\n",
       "4                Нет детей     0         0\n",
       "...                    ...   ...       ...\n",
       "21466            Есть дети     0         1\n",
       "21467            Нет детей     0         0\n",
       "21468            Есть дети     1         1\n",
       "21469            Есть дети     1         3\n",
       "21470            Есть дети     0         2\n",
       "\n",
       "[21471 rows x 3 columns]"
      ]
     },
     "execution_count": 28,
     "metadata": {},
     "output_type": "execute_result"
    }
   ],
   "source": [
    "debt_children = data.loc[:, ['categorized_children','debt','children']]\n",
    "debt_children"
   ]
  },
  {
   "cell_type": "code",
   "execution_count": 29,
   "metadata": {},
   "outputs": [
    {
     "data": {
      "text/html": [
       "<div>\n",
       "<style scoped>\n",
       "    .dataframe tbody tr th:only-of-type {\n",
       "        vertical-align: middle;\n",
       "    }\n",
       "\n",
       "    .dataframe tbody tr th {\n",
       "        vertical-align: top;\n",
       "    }\n",
       "\n",
       "    .dataframe thead th {\n",
       "        text-align: right;\n",
       "    }\n",
       "</style>\n",
       "<table border=\"1\" class=\"dataframe\">\n",
       "  <thead>\n",
       "    <tr style=\"text-align: right;\">\n",
       "      <th>debt</th>\n",
       "      <th>0</th>\n",
       "      <th>1</th>\n",
       "    </tr>\n",
       "    <tr>\n",
       "      <th>categorized_children</th>\n",
       "      <th></th>\n",
       "      <th></th>\n",
       "    </tr>\n",
       "  </thead>\n",
       "  <tbody>\n",
       "    <tr>\n",
       "      <td>Есть дети</td>\n",
       "      <td>6686</td>\n",
       "      <td>678</td>\n",
       "    </tr>\n",
       "    <tr>\n",
       "      <td>Нет детей</td>\n",
       "      <td>13044</td>\n",
       "      <td>1063</td>\n",
       "    </tr>\n",
       "  </tbody>\n",
       "</table>\n",
       "</div>"
      ],
      "text/plain": [
       "debt                      0     1\n",
       "categorized_children             \n",
       "Есть дети              6686   678\n",
       "Нет детей             13044  1063"
      ]
     },
     "execution_count": 29,
     "metadata": {},
     "output_type": "execute_result"
    }
   ],
   "source": [
    "#Для наглядности создадим сводную таблицу\n",
    "\n",
    "debt_children_pivot = debt_children.pivot_table(\n",
    "    index = 'categorized_children',\n",
    "    columns = 'debt',\n",
    "    values = 'children',\n",
    "    aggfunc = 'count'\n",
    ")\n",
    "debt_children_pivot"
   ]
  },
  {
   "cell_type": "code",
   "execution_count": 30,
   "metadata": {},
   "outputs": [
    {
     "data": {
      "text/html": [
       "<style  type=\"text/css\" >\n",
       "</style><table id=\"T_b38d072e_7643_11ec_9a92_02420a393d65\" ><thead>    <tr>        <th class=\"index_name level0\" >debt</th>        <th class=\"col_heading level0 col0\" >0</th>        <th class=\"col_heading level0 col1\" >1</th>        <th class=\"col_heading level0 col2\" >percentage</th>    </tr>    <tr>        <th class=\"index_name level0\" >categorized_children</th>        <th class=\"blank\" ></th>        <th class=\"blank\" ></th>        <th class=\"blank\" ></th>    </tr></thead><tbody>\n",
       "                <tr>\n",
       "                        <th id=\"T_b38d072e_7643_11ec_9a92_02420a393d65level0_row0\" class=\"row_heading level0 row0\" >Есть дети</th>\n",
       "                        <td id=\"T_b38d072e_7643_11ec_9a92_02420a393d65row0_col0\" class=\"data row0 col0\" >6686</td>\n",
       "                        <td id=\"T_b38d072e_7643_11ec_9a92_02420a393d65row0_col1\" class=\"data row0 col1\" >678</td>\n",
       "                        <td id=\"T_b38d072e_7643_11ec_9a92_02420a393d65row0_col2\" class=\"data row0 col2\" >9.21%</td>\n",
       "            </tr>\n",
       "            <tr>\n",
       "                        <th id=\"T_b38d072e_7643_11ec_9a92_02420a393d65level0_row1\" class=\"row_heading level0 row1\" >Нет детей</th>\n",
       "                        <td id=\"T_b38d072e_7643_11ec_9a92_02420a393d65row1_col0\" class=\"data row1 col0\" >13044</td>\n",
       "                        <td id=\"T_b38d072e_7643_11ec_9a92_02420a393d65row1_col1\" class=\"data row1 col1\" >1063</td>\n",
       "                        <td id=\"T_b38d072e_7643_11ec_9a92_02420a393d65row1_col2\" class=\"data row1 col2\" >7.54%</td>\n",
       "            </tr>\n",
       "    </tbody></table>"
      ],
      "text/plain": [
       "<pandas.io.formats.style.Styler at 0x7f46df6244d0>"
      ]
     },
     "execution_count": 30,
     "metadata": {},
     "output_type": "execute_result"
    }
   ],
   "source": [
    "#Рассчитаем отношение клиентов, которые встречались с задержками по выплатам к общему количеству клиентов\n",
    "debt_children_pivot['percentage'] = debt_children_pivot[1]/(debt_children_pivot[1]+debt_children_pivot[0]) * 100\n",
    "\n",
    "#Изменим вид значений нового столбца на процентный и ограничим число знаков после запятой\n",
    "debt_children_pivot.style.format({'percentage':'{:.2f}%'})"
   ]
  },
  {
   "cell_type": "code",
   "execution_count": 31,
   "metadata": {},
   "outputs": [
    {
     "data": {
      "text/plain": [
       "'22.2%'"
      ]
     },
     "execution_count": 31,
     "metadata": {},
     "output_type": "execute_result"
    }
   ],
   "source": [
    "#Вычислим насколько чаще заемщики с детьми сталкиваеются с просрочками.\n",
    "difference = (debt_children_pivot['percentage'][0]-debt_children_pivot['percentage'][1])/debt_children_pivot['percentage'][1]\n",
    "f'{difference:.1%}'"
   ]
  },
  {
   "cell_type": "markdown",
   "metadata": {},
   "source": [
    "**Вывод**"
   ]
  },
  {
   "cell_type": "markdown",
   "metadata": {},
   "source": [
    "Из сводной таблицы мы видим, что заемщики с детьми сталкиваются имели задолженность по кредитным обязательствам в **9,21%** случаев, а заемщики без детей в **7.54%**.\n",
    "\n",
    "Выявлена зависимость: Заемщики с детьми сталкиваются с просрочками по выплатам чаще на **22,2%**, чем заемщики без детей."
   ]
  },
  {
   "cell_type": "markdown",
   "metadata": {},
   "source": [
    "**Есть ли зависимость между семейным положением и возвратом кредита в срок?**"
   ]
  },
  {
   "cell_type": "markdown",
   "metadata": {},
   "source": [
    "Создадим таблицу, где соберем только необходимые данные для ответа на данный вопрос, а именно: семейное положение и имел ли клиеинт задолженность по возврату кредитов."
   ]
  },
  {
   "cell_type": "code",
   "execution_count": 32,
   "metadata": {},
   "outputs": [
    {
     "data": {
      "text/html": [
       "<div>\n",
       "<style scoped>\n",
       "    .dataframe tbody tr th:only-of-type {\n",
       "        vertical-align: middle;\n",
       "    }\n",
       "\n",
       "    .dataframe tbody tr th {\n",
       "        vertical-align: top;\n",
       "    }\n",
       "\n",
       "    .dataframe thead th {\n",
       "        text-align: right;\n",
       "    }\n",
       "</style>\n",
       "<table border=\"1\" class=\"dataframe\">\n",
       "  <thead>\n",
       "    <tr style=\"text-align: right;\">\n",
       "      <th></th>\n",
       "      <th>family_status</th>\n",
       "      <th>debt</th>\n",
       "      <th>family_status_id</th>\n",
       "    </tr>\n",
       "  </thead>\n",
       "  <tbody>\n",
       "    <tr>\n",
       "      <td>0</td>\n",
       "      <td>женат / замужем</td>\n",
       "      <td>0</td>\n",
       "      <td>0</td>\n",
       "    </tr>\n",
       "    <tr>\n",
       "      <td>1</td>\n",
       "      <td>женат / замужем</td>\n",
       "      <td>0</td>\n",
       "      <td>0</td>\n",
       "    </tr>\n",
       "    <tr>\n",
       "      <td>2</td>\n",
       "      <td>женат / замужем</td>\n",
       "      <td>0</td>\n",
       "      <td>0</td>\n",
       "    </tr>\n",
       "    <tr>\n",
       "      <td>3</td>\n",
       "      <td>женат / замужем</td>\n",
       "      <td>0</td>\n",
       "      <td>0</td>\n",
       "    </tr>\n",
       "    <tr>\n",
       "      <td>4</td>\n",
       "      <td>гражданский брак</td>\n",
       "      <td>0</td>\n",
       "      <td>1</td>\n",
       "    </tr>\n",
       "    <tr>\n",
       "      <td>...</td>\n",
       "      <td>...</td>\n",
       "      <td>...</td>\n",
       "      <td>...</td>\n",
       "    </tr>\n",
       "    <tr>\n",
       "      <td>21466</td>\n",
       "      <td>гражданский брак</td>\n",
       "      <td>0</td>\n",
       "      <td>1</td>\n",
       "    </tr>\n",
       "    <tr>\n",
       "      <td>21467</td>\n",
       "      <td>женат / замужем</td>\n",
       "      <td>0</td>\n",
       "      <td>0</td>\n",
       "    </tr>\n",
       "    <tr>\n",
       "      <td>21468</td>\n",
       "      <td>гражданский брак</td>\n",
       "      <td>1</td>\n",
       "      <td>1</td>\n",
       "    </tr>\n",
       "    <tr>\n",
       "      <td>21469</td>\n",
       "      <td>женат / замужем</td>\n",
       "      <td>1</td>\n",
       "      <td>0</td>\n",
       "    </tr>\n",
       "    <tr>\n",
       "      <td>21470</td>\n",
       "      <td>женат / замужем</td>\n",
       "      <td>0</td>\n",
       "      <td>0</td>\n",
       "    </tr>\n",
       "  </tbody>\n",
       "</table>\n",
       "<p>21471 rows × 3 columns</p>\n",
       "</div>"
      ],
      "text/plain": [
       "          family_status  debt  family_status_id\n",
       "0       женат / замужем     0                 0\n",
       "1       женат / замужем     0                 0\n",
       "2       женат / замужем     0                 0\n",
       "3       женат / замужем     0                 0\n",
       "4      гражданский брак     0                 1\n",
       "...                 ...   ...               ...\n",
       "21466  гражданский брак     0                 1\n",
       "21467   женат / замужем     0                 0\n",
       "21468  гражданский брак     1                 1\n",
       "21469   женат / замужем     1                 0\n",
       "21470   женат / замужем     0                 0\n",
       "\n",
       "[21471 rows x 3 columns]"
      ]
     },
     "execution_count": 32,
     "metadata": {},
     "output_type": "execute_result"
    }
   ],
   "source": [
    "debt_family = data.loc[:, ['family_status','debt','family_status_id']]\n",
    "debt_family"
   ]
  },
  {
   "cell_type": "code",
   "execution_count": 33,
   "metadata": {},
   "outputs": [
    {
     "data": {
      "text/plain": [
       "array(['женат / замужем', 'гражданский брак', 'вдовец / вдова',\n",
       "       'в разводе', 'Не женат / не замужем'], dtype=object)"
      ]
     },
     "execution_count": 33,
     "metadata": {},
     "output_type": "execute_result"
    }
   ],
   "source": [
    "#Ознакомимся с уникальными значениями столбца family_status\n",
    "debt_family['family_status'].unique()"
   ]
  },
  {
   "cell_type": "markdown",
   "metadata": {},
   "source": [
    "Данные в столбце не нуждаются в дополнительной категоризации."
   ]
  },
  {
   "cell_type": "code",
   "execution_count": 34,
   "metadata": {},
   "outputs": [
    {
     "data": {
      "text/html": [
       "<div>\n",
       "<style scoped>\n",
       "    .dataframe tbody tr th:only-of-type {\n",
       "        vertical-align: middle;\n",
       "    }\n",
       "\n",
       "    .dataframe tbody tr th {\n",
       "        vertical-align: top;\n",
       "    }\n",
       "\n",
       "    .dataframe thead th {\n",
       "        text-align: right;\n",
       "    }\n",
       "</style>\n",
       "<table border=\"1\" class=\"dataframe\">\n",
       "  <thead>\n",
       "    <tr style=\"text-align: right;\">\n",
       "      <th>debt</th>\n",
       "      <th>0</th>\n",
       "      <th>1</th>\n",
       "    </tr>\n",
       "    <tr>\n",
       "      <th>family_status</th>\n",
       "      <th></th>\n",
       "      <th></th>\n",
       "    </tr>\n",
       "  </thead>\n",
       "  <tbody>\n",
       "    <tr>\n",
       "      <td>Не женат / не замужем</td>\n",
       "      <td>2536</td>\n",
       "      <td>274</td>\n",
       "    </tr>\n",
       "    <tr>\n",
       "      <td>в разводе</td>\n",
       "      <td>1110</td>\n",
       "      <td>85</td>\n",
       "    </tr>\n",
       "    <tr>\n",
       "      <td>вдовец / вдова</td>\n",
       "      <td>896</td>\n",
       "      <td>63</td>\n",
       "    </tr>\n",
       "    <tr>\n",
       "      <td>гражданский брак</td>\n",
       "      <td>3775</td>\n",
       "      <td>388</td>\n",
       "    </tr>\n",
       "    <tr>\n",
       "      <td>женат / замужем</td>\n",
       "      <td>11413</td>\n",
       "      <td>931</td>\n",
       "    </tr>\n",
       "  </tbody>\n",
       "</table>\n",
       "</div>"
      ],
      "text/plain": [
       "debt                       0    1\n",
       "family_status                    \n",
       "Не женат / не замужем   2536  274\n",
       "в разводе               1110   85\n",
       "вдовец / вдова           896   63\n",
       "гражданский брак        3775  388\n",
       "женат / замужем        11413  931"
      ]
     },
     "execution_count": 34,
     "metadata": {},
     "output_type": "execute_result"
    }
   ],
   "source": [
    "#Создадим сводную таблицу по таблице debt_family\n",
    "debt_family_pivot = debt_family.pivot_table(\n",
    "    index = 'family_status',\n",
    "    columns = 'debt',\n",
    "    values = 'family_status_id',\n",
    "    aggfunc = 'count'\n",
    ")\n",
    "debt_family_pivot"
   ]
  },
  {
   "cell_type": "code",
   "execution_count": 35,
   "metadata": {},
   "outputs": [
    {
     "data": {
      "text/html": [
       "<style  type=\"text/css\" >\n",
       "</style><table id=\"T_b39fa596_7643_11ec_9a92_02420a393d65\" ><thead>    <tr>        <th class=\"index_name level0\" >debt</th>        <th class=\"col_heading level0 col0\" >0</th>        <th class=\"col_heading level0 col1\" >1</th>        <th class=\"col_heading level0 col2\" >percentage</th>    </tr>    <tr>        <th class=\"index_name level0\" >family_status</th>        <th class=\"blank\" ></th>        <th class=\"blank\" ></th>        <th class=\"blank\" ></th>    </tr></thead><tbody>\n",
       "                <tr>\n",
       "                        <th id=\"T_b39fa596_7643_11ec_9a92_02420a393d65level0_row0\" class=\"row_heading level0 row0\" >Не женат / не замужем</th>\n",
       "                        <td id=\"T_b39fa596_7643_11ec_9a92_02420a393d65row0_col0\" class=\"data row0 col0\" >2536</td>\n",
       "                        <td id=\"T_b39fa596_7643_11ec_9a92_02420a393d65row0_col1\" class=\"data row0 col1\" >274</td>\n",
       "                        <td id=\"T_b39fa596_7643_11ec_9a92_02420a393d65row0_col2\" class=\"data row0 col2\" >9.75%</td>\n",
       "            </tr>\n",
       "            <tr>\n",
       "                        <th id=\"T_b39fa596_7643_11ec_9a92_02420a393d65level0_row1\" class=\"row_heading level0 row1\" >в разводе</th>\n",
       "                        <td id=\"T_b39fa596_7643_11ec_9a92_02420a393d65row1_col0\" class=\"data row1 col0\" >1110</td>\n",
       "                        <td id=\"T_b39fa596_7643_11ec_9a92_02420a393d65row1_col1\" class=\"data row1 col1\" >85</td>\n",
       "                        <td id=\"T_b39fa596_7643_11ec_9a92_02420a393d65row1_col2\" class=\"data row1 col2\" >7.11%</td>\n",
       "            </tr>\n",
       "            <tr>\n",
       "                        <th id=\"T_b39fa596_7643_11ec_9a92_02420a393d65level0_row2\" class=\"row_heading level0 row2\" >вдовец / вдова</th>\n",
       "                        <td id=\"T_b39fa596_7643_11ec_9a92_02420a393d65row2_col0\" class=\"data row2 col0\" >896</td>\n",
       "                        <td id=\"T_b39fa596_7643_11ec_9a92_02420a393d65row2_col1\" class=\"data row2 col1\" >63</td>\n",
       "                        <td id=\"T_b39fa596_7643_11ec_9a92_02420a393d65row2_col2\" class=\"data row2 col2\" >6.57%</td>\n",
       "            </tr>\n",
       "            <tr>\n",
       "                        <th id=\"T_b39fa596_7643_11ec_9a92_02420a393d65level0_row3\" class=\"row_heading level0 row3\" >гражданский брак</th>\n",
       "                        <td id=\"T_b39fa596_7643_11ec_9a92_02420a393d65row3_col0\" class=\"data row3 col0\" >3775</td>\n",
       "                        <td id=\"T_b39fa596_7643_11ec_9a92_02420a393d65row3_col1\" class=\"data row3 col1\" >388</td>\n",
       "                        <td id=\"T_b39fa596_7643_11ec_9a92_02420a393d65row3_col2\" class=\"data row3 col2\" >9.32%</td>\n",
       "            </tr>\n",
       "            <tr>\n",
       "                        <th id=\"T_b39fa596_7643_11ec_9a92_02420a393d65level0_row4\" class=\"row_heading level0 row4\" >женат / замужем</th>\n",
       "                        <td id=\"T_b39fa596_7643_11ec_9a92_02420a393d65row4_col0\" class=\"data row4 col0\" >11413</td>\n",
       "                        <td id=\"T_b39fa596_7643_11ec_9a92_02420a393d65row4_col1\" class=\"data row4 col1\" >931</td>\n",
       "                        <td id=\"T_b39fa596_7643_11ec_9a92_02420a393d65row4_col2\" class=\"data row4 col2\" >7.54%</td>\n",
       "            </tr>\n",
       "    </tbody></table>"
      ],
      "text/plain": [
       "<pandas.io.formats.style.Styler at 0x7f46d4af0090>"
      ]
     },
     "execution_count": 35,
     "metadata": {},
     "output_type": "execute_result"
    }
   ],
   "source": [
    "#Рассчитаем отношение клиентов, которые встречались с задержками по выплатам к общему количеству клиентов\n",
    "debt_family_pivot['percentage'] = debt_family_pivot[1]/(debt_family_pivot[1]+debt_family_pivot[0]) * 100\n",
    "\n",
    "#Изменим вид значений нового столбца на процентный и ограничим число знаков после запятой\n",
    "debt_family_pivot.style.format({'percentage':'{:.2f}%'})"
   ]
  },
  {
   "cell_type": "markdown",
   "metadata": {},
   "source": [
    "**Вывод**"
   ]
  },
  {
   "cell_type": "markdown",
   "metadata": {},
   "source": [
    "Зависимость между семейным положением и возвратом кредита в срок существует.\n",
    "\n",
    "Можно выделить 2 статуса семейного положения, имея которые люди чаще встречаются с задолженностями при выплате кредита:\n",
    "- \"Не женат / не замужем\" - 9.75%\n",
    "- \"гражданский брак\" - 9.32%\n",
    "\n",
    "И 3 статуса семейного положения, имея которые люди реже встречаются с задолженностями при выплате кредита:\n",
    "\n",
    "- \"вдовец / вдова\" - 6.57%\n",
    "- \"в разводе\" - 7.11%\n",
    "- \"женат / замужем\" - 7.54%\n",
    "\n"
   ]
  },
  {
   "cell_type": "markdown",
   "metadata": {},
   "source": [
    "**Есть ли зависимость между уровнем дохода и возвратом кредита в срок?**"
   ]
  },
  {
   "cell_type": "markdown",
   "metadata": {},
   "source": [
    "Создадим таблицу, где соберем только необходимые данные для ответа на данный вопрос, а именно: категорию дохода клиента, ежемесячный доход и имел ли клиеинт задолженность по возврату кредитов."
   ]
  },
  {
   "cell_type": "code",
   "execution_count": 36,
   "metadata": {},
   "outputs": [
    {
     "data": {
      "text/html": [
       "<div>\n",
       "<style scoped>\n",
       "    .dataframe tbody tr th:only-of-type {\n",
       "        vertical-align: middle;\n",
       "    }\n",
       "\n",
       "    .dataframe tbody tr th {\n",
       "        vertical-align: top;\n",
       "    }\n",
       "\n",
       "    .dataframe thead th {\n",
       "        text-align: right;\n",
       "    }\n",
       "</style>\n",
       "<table border=\"1\" class=\"dataframe\">\n",
       "  <thead>\n",
       "    <tr style=\"text-align: right;\">\n",
       "      <th></th>\n",
       "      <th>categorized_income</th>\n",
       "      <th>debt</th>\n",
       "      <th>total_income</th>\n",
       "    </tr>\n",
       "  </thead>\n",
       "  <tbody>\n",
       "    <tr>\n",
       "      <td>0</td>\n",
       "      <td>Сверхбогатые</td>\n",
       "      <td>0</td>\n",
       "      <td>253875</td>\n",
       "    </tr>\n",
       "    <tr>\n",
       "      <td>1</td>\n",
       "      <td>Богатые</td>\n",
       "      <td>0</td>\n",
       "      <td>112080</td>\n",
       "    </tr>\n",
       "    <tr>\n",
       "      <td>2</td>\n",
       "      <td>Богатые</td>\n",
       "      <td>0</td>\n",
       "      <td>145885</td>\n",
       "    </tr>\n",
       "    <tr>\n",
       "      <td>3</td>\n",
       "      <td>Сверхбогатые</td>\n",
       "      <td>0</td>\n",
       "      <td>267628</td>\n",
       "    </tr>\n",
       "    <tr>\n",
       "      <td>4</td>\n",
       "      <td>Сверхбогатые</td>\n",
       "      <td>0</td>\n",
       "      <td>158616</td>\n",
       "    </tr>\n",
       "    <tr>\n",
       "      <td>...</td>\n",
       "      <td>...</td>\n",
       "      <td>...</td>\n",
       "      <td>...</td>\n",
       "    </tr>\n",
       "    <tr>\n",
       "      <td>21466</td>\n",
       "      <td>Сверхбогатые</td>\n",
       "      <td>0</td>\n",
       "      <td>224791</td>\n",
       "    </tr>\n",
       "    <tr>\n",
       "      <td>21467</td>\n",
       "      <td>Сверхбогатые</td>\n",
       "      <td>0</td>\n",
       "      <td>155999</td>\n",
       "    </tr>\n",
       "    <tr>\n",
       "      <td>21468</td>\n",
       "      <td>Состоятельные</td>\n",
       "      <td>1</td>\n",
       "      <td>89672</td>\n",
       "    </tr>\n",
       "    <tr>\n",
       "      <td>21469</td>\n",
       "      <td>Сверхбогатые</td>\n",
       "      <td>1</td>\n",
       "      <td>244093</td>\n",
       "    </tr>\n",
       "    <tr>\n",
       "      <td>21470</td>\n",
       "      <td>Состоятельные</td>\n",
       "      <td>0</td>\n",
       "      <td>82047</td>\n",
       "    </tr>\n",
       "  </tbody>\n",
       "</table>\n",
       "<p>21471 rows × 3 columns</p>\n",
       "</div>"
      ],
      "text/plain": [
       "      categorized_income  debt  total_income\n",
       "0           Сверхбогатые     0        253875\n",
       "1                Богатые     0        112080\n",
       "2                Богатые     0        145885\n",
       "3           Сверхбогатые     0        267628\n",
       "4           Сверхбогатые     0        158616\n",
       "...                  ...   ...           ...\n",
       "21466       Сверхбогатые     0        224791\n",
       "21467       Сверхбогатые     0        155999\n",
       "21468      Состоятельные     1         89672\n",
       "21469       Сверхбогатые     1        244093\n",
       "21470      Состоятельные     0         82047\n",
       "\n",
       "[21471 rows x 3 columns]"
      ]
     },
     "execution_count": 36,
     "metadata": {},
     "output_type": "execute_result"
    }
   ],
   "source": [
    "debt_income = data.loc[:, ['categorized_income','debt','total_income']]\n",
    "debt_income"
   ]
  },
  {
   "cell_type": "code",
   "execution_count": 37,
   "metadata": {},
   "outputs": [
    {
     "data": {
      "text/html": [
       "<div>\n",
       "<style scoped>\n",
       "    .dataframe tbody tr th:only-of-type {\n",
       "        vertical-align: middle;\n",
       "    }\n",
       "\n",
       "    .dataframe tbody tr th {\n",
       "        vertical-align: top;\n",
       "    }\n",
       "\n",
       "    .dataframe thead th {\n",
       "        text-align: right;\n",
       "    }\n",
       "</style>\n",
       "<table border=\"1\" class=\"dataframe\">\n",
       "  <thead>\n",
       "    <tr style=\"text-align: right;\">\n",
       "      <th>debt</th>\n",
       "      <th>0</th>\n",
       "      <th>1</th>\n",
       "    </tr>\n",
       "    <tr>\n",
       "      <th>categorized_income</th>\n",
       "      <th></th>\n",
       "      <th></th>\n",
       "    </tr>\n",
       "  </thead>\n",
       "  <tbody>\n",
       "    <tr>\n",
       "      <td>Богатые</td>\n",
       "      <td>8186</td>\n",
       "      <td>753</td>\n",
       "    </tr>\n",
       "    <tr>\n",
       "      <td>Выше бедности</td>\n",
       "      <td>20</td>\n",
       "      <td>2</td>\n",
       "    </tr>\n",
       "    <tr>\n",
       "      <td>Сверхбогатые</td>\n",
       "      <td>8458</td>\n",
       "      <td>726</td>\n",
       "    </tr>\n",
       "    <tr>\n",
       "      <td>Состоятельные</td>\n",
       "      <td>2329</td>\n",
       "      <td>213</td>\n",
       "    </tr>\n",
       "    <tr>\n",
       "      <td>Средний достаток</td>\n",
       "      <td>737</td>\n",
       "      <td>47</td>\n",
       "    </tr>\n",
       "  </tbody>\n",
       "</table>\n",
       "</div>"
      ],
      "text/plain": [
       "debt                   0    1\n",
       "categorized_income           \n",
       "Богатые             8186  753\n",
       "Выше бедности         20    2\n",
       "Сверхбогатые        8458  726\n",
       "Состоятельные       2329  213\n",
       "Средний достаток     737   47"
      ]
     },
     "execution_count": 37,
     "metadata": {},
     "output_type": "execute_result"
    }
   ],
   "source": [
    "#Создадим сводную таблицу по таблице debt_income\n",
    "debt_income_pivot = debt_income.pivot_table(\n",
    "    index = 'categorized_income',\n",
    "    columns = 'debt',\n",
    "    values = 'total_income',\n",
    "    aggfunc = 'count'\n",
    ")\n",
    "debt_income_pivot"
   ]
  },
  {
   "cell_type": "code",
   "execution_count": 38,
   "metadata": {},
   "outputs": [
    {
     "data": {
      "text/html": [
       "<style  type=\"text/css\" >\n",
       "</style><table id=\"T_b3ae77e2_7643_11ec_9a92_02420a393d65\" ><thead>    <tr>        <th class=\"index_name level0\" >debt</th>        <th class=\"col_heading level0 col0\" >0</th>        <th class=\"col_heading level0 col1\" >1</th>        <th class=\"col_heading level0 col2\" >percentage</th>    </tr>    <tr>        <th class=\"index_name level0\" >categorized_income</th>        <th class=\"blank\" ></th>        <th class=\"blank\" ></th>        <th class=\"blank\" ></th>    </tr></thead><tbody>\n",
       "                <tr>\n",
       "                        <th id=\"T_b3ae77e2_7643_11ec_9a92_02420a393d65level0_row0\" class=\"row_heading level0 row0\" >Богатые</th>\n",
       "                        <td id=\"T_b3ae77e2_7643_11ec_9a92_02420a393d65row0_col0\" class=\"data row0 col0\" >8186</td>\n",
       "                        <td id=\"T_b3ae77e2_7643_11ec_9a92_02420a393d65row0_col1\" class=\"data row0 col1\" >753</td>\n",
       "                        <td id=\"T_b3ae77e2_7643_11ec_9a92_02420a393d65row0_col2\" class=\"data row0 col2\" >8.42%</td>\n",
       "            </tr>\n",
       "            <tr>\n",
       "                        <th id=\"T_b3ae77e2_7643_11ec_9a92_02420a393d65level0_row1\" class=\"row_heading level0 row1\" >Выше бедности</th>\n",
       "                        <td id=\"T_b3ae77e2_7643_11ec_9a92_02420a393d65row1_col0\" class=\"data row1 col0\" >20</td>\n",
       "                        <td id=\"T_b3ae77e2_7643_11ec_9a92_02420a393d65row1_col1\" class=\"data row1 col1\" >2</td>\n",
       "                        <td id=\"T_b3ae77e2_7643_11ec_9a92_02420a393d65row1_col2\" class=\"data row1 col2\" >9.09%</td>\n",
       "            </tr>\n",
       "            <tr>\n",
       "                        <th id=\"T_b3ae77e2_7643_11ec_9a92_02420a393d65level0_row2\" class=\"row_heading level0 row2\" >Сверхбогатые</th>\n",
       "                        <td id=\"T_b3ae77e2_7643_11ec_9a92_02420a393d65row2_col0\" class=\"data row2 col0\" >8458</td>\n",
       "                        <td id=\"T_b3ae77e2_7643_11ec_9a92_02420a393d65row2_col1\" class=\"data row2 col1\" >726</td>\n",
       "                        <td id=\"T_b3ae77e2_7643_11ec_9a92_02420a393d65row2_col2\" class=\"data row2 col2\" >7.91%</td>\n",
       "            </tr>\n",
       "            <tr>\n",
       "                        <th id=\"T_b3ae77e2_7643_11ec_9a92_02420a393d65level0_row3\" class=\"row_heading level0 row3\" >Состоятельные</th>\n",
       "                        <td id=\"T_b3ae77e2_7643_11ec_9a92_02420a393d65row3_col0\" class=\"data row3 col0\" >2329</td>\n",
       "                        <td id=\"T_b3ae77e2_7643_11ec_9a92_02420a393d65row3_col1\" class=\"data row3 col1\" >213</td>\n",
       "                        <td id=\"T_b3ae77e2_7643_11ec_9a92_02420a393d65row3_col2\" class=\"data row3 col2\" >8.38%</td>\n",
       "            </tr>\n",
       "            <tr>\n",
       "                        <th id=\"T_b3ae77e2_7643_11ec_9a92_02420a393d65level0_row4\" class=\"row_heading level0 row4\" >Средний достаток</th>\n",
       "                        <td id=\"T_b3ae77e2_7643_11ec_9a92_02420a393d65row4_col0\" class=\"data row4 col0\" >737</td>\n",
       "                        <td id=\"T_b3ae77e2_7643_11ec_9a92_02420a393d65row4_col1\" class=\"data row4 col1\" >47</td>\n",
       "                        <td id=\"T_b3ae77e2_7643_11ec_9a92_02420a393d65row4_col2\" class=\"data row4 col2\" >5.99%</td>\n",
       "            </tr>\n",
       "    </tbody></table>"
      ],
      "text/plain": [
       "<pandas.io.formats.style.Styler at 0x7f46d41cf590>"
      ]
     },
     "execution_count": 38,
     "metadata": {},
     "output_type": "execute_result"
    }
   ],
   "source": [
    "#Рассчитаем отношение клиентов, которые встречались с задержками по выплатам к общему количеству клиентов\n",
    "debt_income_pivot['percentage'] = debt_income_pivot[1]/(debt_income_pivot[1]+debt_income_pivot[0]) * 100\n",
    "\n",
    "#Изменим вид значений нового столбца на процентный и ограничим число знаков после запятой\n",
    "debt_income_pivot.style.format({'percentage':'{:.2f}%'})"
   ]
  },
  {
   "cell_type": "markdown",
   "metadata": {},
   "source": [
    "**Вывод**"
   ]
  },
  {
   "cell_type": "markdown",
   "metadata": {},
   "source": [
    "Зависимость между уровнем дохода и возвратом кредита в срок существует.\n",
    "\n",
    "\n",
    "Ответственнее всего к выплате кредита подходят люди со среднем достатком (30,000 - 60,000), сталкиваясь с задолженностями всего в 5.99% случаев.\n",
    "\n",
    "Остальные категории задалживали по выплатам по кредитам чаще:\n",
    "- Сверхбогатые 7.91% (от 150,000)\n",
    "- Состоятельные 8.38% (60,000 - 90,000)\n",
    "- Богатые 8.42% (90,000 - 150,000)\n",
    "- Выше бедности 9.09% (20,000 - 30,000)"
   ]
  },
  {
   "cell_type": "markdown",
   "metadata": {},
   "source": [
    "**Как разные цели кредита влияют на его возврат в срок?**"
   ]
  },
  {
   "cell_type": "code",
   "execution_count": 39,
   "metadata": {},
   "outputs": [
    {
     "data": {
      "text/html": [
       "<div>\n",
       "<style scoped>\n",
       "    .dataframe tbody tr th:only-of-type {\n",
       "        vertical-align: middle;\n",
       "    }\n",
       "\n",
       "    .dataframe tbody tr th {\n",
       "        vertical-align: top;\n",
       "    }\n",
       "\n",
       "    .dataframe thead th {\n",
       "        text-align: right;\n",
       "    }\n",
       "</style>\n",
       "<table border=\"1\" class=\"dataframe\">\n",
       "  <thead>\n",
       "    <tr style=\"text-align: right;\">\n",
       "      <th></th>\n",
       "      <th>categorized_purpose</th>\n",
       "      <th>debt</th>\n",
       "      <th>purpose</th>\n",
       "    </tr>\n",
       "  </thead>\n",
       "  <tbody>\n",
       "    <tr>\n",
       "      <td>0</td>\n",
       "      <td>Приобретение недвижимости</td>\n",
       "      <td>0</td>\n",
       "      <td>покупка жилья</td>\n",
       "    </tr>\n",
       "    <tr>\n",
       "      <td>1</td>\n",
       "      <td>Приобретение автомобиля</td>\n",
       "      <td>0</td>\n",
       "      <td>приобретение автомобиля</td>\n",
       "    </tr>\n",
       "    <tr>\n",
       "      <td>2</td>\n",
       "      <td>Приобретение недвижимости</td>\n",
       "      <td>0</td>\n",
       "      <td>покупка жилья</td>\n",
       "    </tr>\n",
       "    <tr>\n",
       "      <td>3</td>\n",
       "      <td>Получение образования</td>\n",
       "      <td>0</td>\n",
       "      <td>дополнительное образование</td>\n",
       "    </tr>\n",
       "    <tr>\n",
       "      <td>4</td>\n",
       "      <td>Проведение свадьбы</td>\n",
       "      <td>0</td>\n",
       "      <td>сыграть свадьбу</td>\n",
       "    </tr>\n",
       "    <tr>\n",
       "      <td>...</td>\n",
       "      <td>...</td>\n",
       "      <td>...</td>\n",
       "      <td>...</td>\n",
       "    </tr>\n",
       "    <tr>\n",
       "      <td>21466</td>\n",
       "      <td>Приобретение недвижимости</td>\n",
       "      <td>0</td>\n",
       "      <td>операции с жильем</td>\n",
       "    </tr>\n",
       "    <tr>\n",
       "      <td>21467</td>\n",
       "      <td>Приобретение автомобиля</td>\n",
       "      <td>0</td>\n",
       "      <td>сделка с автомобилем</td>\n",
       "    </tr>\n",
       "    <tr>\n",
       "      <td>21468</td>\n",
       "      <td>Приобретение недвижимости</td>\n",
       "      <td>1</td>\n",
       "      <td>недвижимость</td>\n",
       "    </tr>\n",
       "    <tr>\n",
       "      <td>21469</td>\n",
       "      <td>Приобретение автомобиля</td>\n",
       "      <td>1</td>\n",
       "      <td>на покупку своего автомобиля</td>\n",
       "    </tr>\n",
       "    <tr>\n",
       "      <td>21470</td>\n",
       "      <td>Приобретение автомобиля</td>\n",
       "      <td>0</td>\n",
       "      <td>на покупку автомобиля</td>\n",
       "    </tr>\n",
       "  </tbody>\n",
       "</table>\n",
       "<p>21471 rows × 3 columns</p>\n",
       "</div>"
      ],
      "text/plain": [
       "             categorized_purpose  debt                       purpose\n",
       "0      Приобретение недвижимости     0                 покупка жилья\n",
       "1        Приобретение автомобиля     0       приобретение автомобиля\n",
       "2      Приобретение недвижимости     0                 покупка жилья\n",
       "3          Получение образования     0    дополнительное образование\n",
       "4             Проведение свадьбы     0               сыграть свадьбу\n",
       "...                          ...   ...                           ...\n",
       "21466  Приобретение недвижимости     0             операции с жильем\n",
       "21467    Приобретение автомобиля     0          сделка с автомобилем\n",
       "21468  Приобретение недвижимости     1                  недвижимость\n",
       "21469    Приобретение автомобиля     1  на покупку своего автомобиля\n",
       "21470    Приобретение автомобиля     0         на покупку автомобиля\n",
       "\n",
       "[21471 rows x 3 columns]"
      ]
     },
     "execution_count": 39,
     "metadata": {},
     "output_type": "execute_result"
    }
   ],
   "source": [
    "debt_purpose = data.loc[:, ['categorized_purpose','debt','purpose']]\n",
    "debt_purpose"
   ]
  },
  {
   "cell_type": "code",
   "execution_count": 40,
   "metadata": {},
   "outputs": [
    {
     "data": {
      "text/html": [
       "<div>\n",
       "<style scoped>\n",
       "    .dataframe tbody tr th:only-of-type {\n",
       "        vertical-align: middle;\n",
       "    }\n",
       "\n",
       "    .dataframe tbody tr th {\n",
       "        vertical-align: top;\n",
       "    }\n",
       "\n",
       "    .dataframe thead th {\n",
       "        text-align: right;\n",
       "    }\n",
       "</style>\n",
       "<table border=\"1\" class=\"dataframe\">\n",
       "  <thead>\n",
       "    <tr style=\"text-align: right;\">\n",
       "      <th>debt</th>\n",
       "      <th>0</th>\n",
       "      <th>1</th>\n",
       "    </tr>\n",
       "    <tr>\n",
       "      <th>categorized_purpose</th>\n",
       "      <th></th>\n",
       "      <th></th>\n",
       "    </tr>\n",
       "  </thead>\n",
       "  <tbody>\n",
       "    <tr>\n",
       "      <td>Получение образования</td>\n",
       "      <td>3644</td>\n",
       "      <td>370</td>\n",
       "    </tr>\n",
       "    <tr>\n",
       "      <td>Приобретение автомобиля</td>\n",
       "      <td>3905</td>\n",
       "      <td>403</td>\n",
       "    </tr>\n",
       "    <tr>\n",
       "      <td>Приобретение недвижимости</td>\n",
       "      <td>10032</td>\n",
       "      <td>782</td>\n",
       "    </tr>\n",
       "    <tr>\n",
       "      <td>Проведение свадьбы</td>\n",
       "      <td>2149</td>\n",
       "      <td>186</td>\n",
       "    </tr>\n",
       "  </tbody>\n",
       "</table>\n",
       "</div>"
      ],
      "text/plain": [
       "debt                           0    1\n",
       "categorized_purpose                  \n",
       "Получение образования       3644  370\n",
       "Приобретение автомобиля     3905  403\n",
       "Приобретение недвижимости  10032  782\n",
       "Проведение свадьбы          2149  186"
      ]
     },
     "execution_count": 40,
     "metadata": {},
     "output_type": "execute_result"
    }
   ],
   "source": [
    "#Создадим сводную таблицу по таблице debt_purpose\n",
    "debt_purpose_pivot = debt_purpose.pivot_table(\n",
    "    index = 'categorized_purpose',\n",
    "    columns = 'debt',\n",
    "    values = 'purpose',\n",
    "    aggfunc = 'count'\n",
    ")\n",
    "debt_purpose_pivot"
   ]
  },
  {
   "cell_type": "code",
   "execution_count": 41,
   "metadata": {},
   "outputs": [
    {
     "data": {
      "text/html": [
       "<style  type=\"text/css\" >\n",
       "</style><table id=\"T_b3bdccba_7643_11ec_9a92_02420a393d65\" ><thead>    <tr>        <th class=\"index_name level0\" >debt</th>        <th class=\"col_heading level0 col0\" >0</th>        <th class=\"col_heading level0 col1\" >1</th>        <th class=\"col_heading level0 col2\" >percentage</th>    </tr>    <tr>        <th class=\"index_name level0\" >categorized_purpose</th>        <th class=\"blank\" ></th>        <th class=\"blank\" ></th>        <th class=\"blank\" ></th>    </tr></thead><tbody>\n",
       "                <tr>\n",
       "                        <th id=\"T_b3bdccba_7643_11ec_9a92_02420a393d65level0_row0\" class=\"row_heading level0 row0\" >Получение образования</th>\n",
       "                        <td id=\"T_b3bdccba_7643_11ec_9a92_02420a393d65row0_col0\" class=\"data row0 col0\" >3644</td>\n",
       "                        <td id=\"T_b3bdccba_7643_11ec_9a92_02420a393d65row0_col1\" class=\"data row0 col1\" >370</td>\n",
       "                        <td id=\"T_b3bdccba_7643_11ec_9a92_02420a393d65row0_col2\" class=\"data row0 col2\" >9.22%</td>\n",
       "            </tr>\n",
       "            <tr>\n",
       "                        <th id=\"T_b3bdccba_7643_11ec_9a92_02420a393d65level0_row1\" class=\"row_heading level0 row1\" >Приобретение автомобиля</th>\n",
       "                        <td id=\"T_b3bdccba_7643_11ec_9a92_02420a393d65row1_col0\" class=\"data row1 col0\" >3905</td>\n",
       "                        <td id=\"T_b3bdccba_7643_11ec_9a92_02420a393d65row1_col1\" class=\"data row1 col1\" >403</td>\n",
       "                        <td id=\"T_b3bdccba_7643_11ec_9a92_02420a393d65row1_col2\" class=\"data row1 col2\" >9.35%</td>\n",
       "            </tr>\n",
       "            <tr>\n",
       "                        <th id=\"T_b3bdccba_7643_11ec_9a92_02420a393d65level0_row2\" class=\"row_heading level0 row2\" >Приобретение недвижимости</th>\n",
       "                        <td id=\"T_b3bdccba_7643_11ec_9a92_02420a393d65row2_col0\" class=\"data row2 col0\" >10032</td>\n",
       "                        <td id=\"T_b3bdccba_7643_11ec_9a92_02420a393d65row2_col1\" class=\"data row2 col1\" >782</td>\n",
       "                        <td id=\"T_b3bdccba_7643_11ec_9a92_02420a393d65row2_col2\" class=\"data row2 col2\" >7.23%</td>\n",
       "            </tr>\n",
       "            <tr>\n",
       "                        <th id=\"T_b3bdccba_7643_11ec_9a92_02420a393d65level0_row3\" class=\"row_heading level0 row3\" >Проведение свадьбы</th>\n",
       "                        <td id=\"T_b3bdccba_7643_11ec_9a92_02420a393d65row3_col0\" class=\"data row3 col0\" >2149</td>\n",
       "                        <td id=\"T_b3bdccba_7643_11ec_9a92_02420a393d65row3_col1\" class=\"data row3 col1\" >186</td>\n",
       "                        <td id=\"T_b3bdccba_7643_11ec_9a92_02420a393d65row3_col2\" class=\"data row3 col2\" >7.97%</td>\n",
       "            </tr>\n",
       "    </tbody></table>"
      ],
      "text/plain": [
       "<pandas.io.formats.style.Styler at 0x7f47384add90>"
      ]
     },
     "execution_count": 41,
     "metadata": {},
     "output_type": "execute_result"
    }
   ],
   "source": [
    "#Рассчитаем отношение клиентов, которые встречались с задержками по выплатам к общему количеству клиентов\n",
    "debt_purpose_pivot['percentage'] = debt_purpose_pivot[1]/(debt_purpose_pivot[1]+debt_purpose_pivot[0]) * 100\n",
    "\n",
    "#Изменим вид значений нового столбца на процентный и ограничим число знаков после запятой\n",
    "debt_purpose_pivot.style.format({'percentage':'{:.2f}%'})"
   ]
  },
  {
   "cell_type": "markdown",
   "metadata": {},
   "source": [
    "**Вывод**"
   ]
  },
  {
   "cell_type": "markdown",
   "metadata": {},
   "source": [
    "Разные цели кредита влияют на его возврат в срок.\n",
    "\n",
    "Цель, при которой заемщики реже всего сталкиваются с задолженностями - **Приобретение недвижимости**, в **7.23%** случаев.  \n",
    "За ней идет **Проведение свадьбы**, заемщики с данной целью кредита сталкиваются с просрочками по платежем чуть чаще, в **7.97%** случаев. \n",
    "\n",
    "Хуже показали себя группы заемщиков с целями **\"Получение образования\"** и **\"Приобретение автомобиля\"**, они сталкивались с задолженностями чаще, в **9.22%** и в **9.35%** случаев."
   ]
  },
  {
   "cell_type": "markdown",
   "metadata": {},
   "source": [
    "## Общий вывод"
   ]
  },
  {
   "cell_type": "markdown",
   "metadata": {},
   "source": [
    "В полученных данных были найдены недостатки, они были обработаны и их влияние на результаты данного исследования были сведены к минимуму. \n",
    "Для будущих исследований по данным, которые будут собраны таким же образом, как и предоставленный датасет, будет полезно проверить и скорректировать процесс их сбора, а именно:\n",
    "- общий трудовой стаж указан в днях, но в нем есть отрицательные значения, это противоречит логике;\n",
    "- в столбце общий трудовой стаж присутствуют невозможно большие значения;\n",
    "- в столбцах общий трудовой стаж и ежемесячный доход присутствуют взаимосвязанные пропуски значений;\n",
    "- наличие неявных дубликатов в столбцах уровень образования клиента и цель получения кредита;\n",
    "- значений в столбце общий трудовой стаж можно собирать в целочисленном типе.\n",
    "\n",
    "В результате данного исследования были получены ответы на следующие вопросы:\n",
    "\n",
    "**1. Есть ли зависимость между наличием детей и возвратом кредита в срок?**\n",
    "\n",
    "Зависимость существует. Заемщики с детьми сталкиваются с просрочками по выплатам чаще на 22,2%, чем заемщики без детей. \n",
    "\n",
    "\n",
    "**2. Есть ли зависимость между семейным положением и возвратом кредита в срок?**\n",
    "\n",
    "Зависимость существует. Заемщики со статусами \"Не женат / не замужем\" или \"гражданский брак\" справляются с выплатой кредита в срок хуже, чем заемщики со статусами \"вдовец / вдова\", \"в разводе\" или \"женат / замужем\".\n",
    "\n",
    "\n",
    "**3. Есть ли зависимость между уровнем дохода и возвратом кредита в срок?**\n",
    "\n",
    "Зависимость существует. Ответственнее всего к выплате кредита подходят люди со среднем достатком (30,000 - 60,000), сталкиваясь с задолженностями всего в 5.99% случаев.\n",
    "\n",
    "Остальные категории справляются с данной задачей хуже:\n",
    "- Сверхбогатые (от 150,000) 7.91% \n",
    "- Состоятельные (60,000 - 90,000) 8.38%\n",
    "- Богатые (90,000 - 150,000) 8.42% \n",
    "- Выше бедности (20,000 - 30,000) 9.09% \n",
    "\n",
    "\n",
    "\n",
    "**4. Как разные цели кредита влияют на его возврат в срок?**\n",
    "\n",
    "Разные цели кредита влияют на вероятность просрочки по выплатам. **Реже** всего сталкиваются с задолженностями заемщики с целями  **\"Приобретение недвижимости\"** и **\"Проведение свадьбы\"**. **Чаще** проблемы с выплатами возникают у заемщиков с целями: **\"Получение образования\"** и **\"Приобретение автомобиля\"**."
   ]
  }
 ],
 "metadata": {
  "ExecuteTimeLog": [
   {
    "duration": 1213,
    "start_time": "2022-01-07T16:50:53.646Z"
   },
   {
    "duration": 100,
    "start_time": "2022-01-07T16:51:36.620Z"
   },
   {
    "duration": 1183,
    "start_time": "2022-01-10T16:46:57.593Z"
   },
   {
    "duration": 97,
    "start_time": "2022-01-10T16:57:13.344Z"
   },
   {
    "duration": 29,
    "start_time": "2022-01-10T17:04:30.743Z"
   },
   {
    "duration": 49,
    "start_time": "2022-01-10T17:05:09.853Z"
   },
   {
    "duration": 836,
    "start_time": "2022-01-10T17:05:37.480Z"
   },
   {
    "duration": 34,
    "start_time": "2022-01-10T17:05:47.124Z"
   },
   {
    "duration": 55,
    "start_time": "2022-01-10T17:06:17.007Z"
   },
   {
    "duration": 51,
    "start_time": "2022-01-10T17:07:45.966Z"
   },
   {
    "duration": 91,
    "start_time": "2022-01-10T17:07:56.894Z"
   },
   {
    "duration": 67,
    "start_time": "2022-01-10T17:08:10.238Z"
   },
   {
    "duration": 69,
    "start_time": "2022-01-10T17:08:30.232Z"
   },
   {
    "duration": 64,
    "start_time": "2022-01-10T17:09:05.376Z"
   },
   {
    "duration": 61,
    "start_time": "2022-01-10T17:15:16.514Z"
   },
   {
    "duration": 62,
    "start_time": "2022-01-10T17:17:02.929Z"
   },
   {
    "duration": 431,
    "start_time": "2022-01-10T17:18:47.315Z"
   },
   {
    "duration": 8,
    "start_time": "2022-01-10T17:33:17.442Z"
   },
   {
    "duration": 9,
    "start_time": "2022-01-10T17:33:33.918Z"
   },
   {
    "duration": 21,
    "start_time": "2022-01-10T17:33:42.742Z"
   },
   {
    "duration": 22,
    "start_time": "2022-01-10T17:33:51.399Z"
   },
   {
    "duration": 378,
    "start_time": "2022-01-10T17:34:04.391Z"
   },
   {
    "duration": 11,
    "start_time": "2022-01-10T17:34:45.383Z"
   },
   {
    "duration": 361,
    "start_time": "2022-01-10T17:35:22.167Z"
   },
   {
    "duration": 14,
    "start_time": "2022-01-10T17:35:32.760Z"
   },
   {
    "duration": 12,
    "start_time": "2022-01-10T17:36:52.565Z"
   },
   {
    "duration": 420,
    "start_time": "2022-01-10T17:40:02.937Z"
   },
   {
    "duration": 17,
    "start_time": "2022-01-10T17:40:07.463Z"
   },
   {
    "duration": 8,
    "start_time": "2022-01-10T17:57:28.180Z"
   },
   {
    "duration": 6,
    "start_time": "2022-01-10T17:57:52.881Z"
   },
   {
    "duration": 111,
    "start_time": "2022-01-10T18:09:35.291Z"
   },
   {
    "duration": 7,
    "start_time": "2022-01-10T18:09:42.715Z"
   },
   {
    "duration": 14,
    "start_time": "2022-01-10T18:10:41.891Z"
   },
   {
    "duration": 9,
    "start_time": "2022-01-10T18:10:59.210Z"
   },
   {
    "duration": 5,
    "start_time": "2022-01-10T18:11:08.802Z"
   },
   {
    "duration": 7,
    "start_time": "2022-01-10T18:15:38.171Z"
   },
   {
    "duration": 127,
    "start_time": "2022-01-10T18:18:32.660Z"
   },
   {
    "duration": 20,
    "start_time": "2022-01-10T18:24:28.243Z"
   },
   {
    "duration": 20,
    "start_time": "2022-01-10T18:24:33.347Z"
   },
   {
    "duration": 23,
    "start_time": "2022-01-10T18:25:24.043Z"
   },
   {
    "duration": 19,
    "start_time": "2022-01-10T18:25:29.483Z"
   },
   {
    "duration": 93,
    "start_time": "2022-01-10T18:25:33.542Z"
   },
   {
    "duration": 92,
    "start_time": "2022-01-10T18:25:39.573Z"
   },
   {
    "duration": 6,
    "start_time": "2022-01-10T18:26:53.709Z"
   },
   {
    "duration": 8,
    "start_time": "2022-01-10T18:29:19.125Z"
   },
   {
    "duration": 6,
    "start_time": "2022-01-10T18:29:22.251Z"
   },
   {
    "duration": 9,
    "start_time": "2022-01-10T18:38:45.808Z"
   },
   {
    "duration": 7,
    "start_time": "2022-01-10T19:20:59.201Z"
   },
   {
    "duration": 612,
    "start_time": "2022-01-10T19:22:38.712Z"
   },
   {
    "duration": 555,
    "start_time": "2022-01-10T19:23:22.259Z"
   },
   {
    "duration": 669,
    "start_time": "2022-01-10T19:23:36.192Z"
   },
   {
    "duration": 1231,
    "start_time": "2022-01-10T19:24:13.944Z"
   },
   {
    "duration": 715,
    "start_time": "2022-01-10T19:25:04.272Z"
   },
   {
    "duration": 964,
    "start_time": "2022-01-10T19:25:10.045Z"
   },
   {
    "duration": 1214,
    "start_time": "2022-01-10T19:25:26.858Z"
   },
   {
    "duration": 5,
    "start_time": "2022-01-10T19:29:05.828Z"
   },
   {
    "duration": 866,
    "start_time": "2022-01-10T19:30:16.289Z"
   },
   {
    "duration": 13,
    "start_time": "2022-01-10T19:31:31.345Z"
   },
   {
    "duration": 8,
    "start_time": "2022-01-10T19:31:38.217Z"
   },
   {
    "duration": 15,
    "start_time": "2022-01-10T19:34:19.372Z"
   },
   {
    "duration": 8,
    "start_time": "2022-01-10T19:35:20.203Z"
   },
   {
    "duration": 780,
    "start_time": "2022-01-10T19:39:56.012Z"
   },
   {
    "duration": 457,
    "start_time": "2022-01-10T19:40:04.052Z"
   },
   {
    "duration": 322,
    "start_time": "2022-01-10T19:42:08.125Z"
   },
   {
    "duration": 7,
    "start_time": "2022-01-10T19:42:26.123Z"
   },
   {
    "duration": 12,
    "start_time": "2022-01-10T19:46:17.025Z"
   },
   {
    "duration": 9,
    "start_time": "2022-01-10T19:46:18.687Z"
   },
   {
    "duration": 14,
    "start_time": "2022-01-10T19:46:30.399Z"
   },
   {
    "duration": 8,
    "start_time": "2022-01-10T19:47:38.578Z"
   },
   {
    "duration": 310,
    "start_time": "2022-01-10T19:48:06.910Z"
   },
   {
    "duration": 27,
    "start_time": "2022-01-10T19:48:11.303Z"
   },
   {
    "duration": 16,
    "start_time": "2022-01-10T19:48:15.102Z"
   },
   {
    "duration": 16,
    "start_time": "2022-01-10T19:48:38.510Z"
   },
   {
    "duration": 5,
    "start_time": "2022-01-10T20:12:41.576Z"
   },
   {
    "duration": 870,
    "start_time": "2022-01-10T20:18:16.675Z"
   },
   {
    "duration": 806,
    "start_time": "2022-01-10T20:18:40.083Z"
   },
   {
    "duration": 361,
    "start_time": "2022-01-12T17:08:12.082Z"
   },
   {
    "duration": 812,
    "start_time": "2022-01-12T17:08:26.629Z"
   },
   {
    "duration": 17,
    "start_time": "2022-01-12T17:08:27.444Z"
   },
   {
    "duration": 4,
    "start_time": "2022-01-12T17:08:27.463Z"
   },
   {
    "duration": 15,
    "start_time": "2022-01-12T17:08:27.470Z"
   },
   {
    "duration": 48,
    "start_time": "2022-01-12T17:08:27.487Z"
   },
   {
    "duration": 4,
    "start_time": "2022-01-12T17:08:27.538Z"
   },
   {
    "duration": 896,
    "start_time": "2022-01-12T17:08:27.544Z"
   },
   {
    "duration": 28,
    "start_time": "2022-01-12T17:08:28.444Z"
   },
   {
    "duration": 26,
    "start_time": "2022-01-12T17:08:32.030Z"
   },
   {
    "duration": 36,
    "start_time": "2022-01-12T17:08:38.288Z"
   },
   {
    "duration": 29,
    "start_time": "2022-01-12T17:11:54.944Z"
   },
   {
    "duration": 80,
    "start_time": "2022-01-12T17:11:59.784Z"
   },
   {
    "duration": 17,
    "start_time": "2022-01-12T17:11:59.866Z"
   },
   {
    "duration": 6,
    "start_time": "2022-01-12T17:11:59.886Z"
   },
   {
    "duration": 16,
    "start_time": "2022-01-12T17:11:59.924Z"
   },
   {
    "duration": 17,
    "start_time": "2022-01-12T17:11:59.943Z"
   },
   {
    "duration": 5,
    "start_time": "2022-01-12T17:11:59.962Z"
   },
   {
    "duration": 714,
    "start_time": "2022-01-12T17:11:59.970Z"
   },
   {
    "duration": 53,
    "start_time": "2022-01-12T17:12:00.688Z"
   },
   {
    "duration": 35,
    "start_time": "2022-01-12T17:12:00.745Z"
   },
   {
    "duration": 37,
    "start_time": "2022-01-12T17:18:18.667Z"
   },
   {
    "duration": 81,
    "start_time": "2022-01-12T17:18:33.331Z"
   },
   {
    "duration": 23,
    "start_time": "2022-01-12T17:18:33.415Z"
   },
   {
    "duration": 5,
    "start_time": "2022-01-12T17:18:33.440Z"
   },
   {
    "duration": 17,
    "start_time": "2022-01-12T17:18:33.448Z"
   },
   {
    "duration": 55,
    "start_time": "2022-01-12T17:18:33.468Z"
   },
   {
    "duration": 6,
    "start_time": "2022-01-12T17:18:33.526Z"
   },
   {
    "duration": 707,
    "start_time": "2022-01-12T17:18:33.535Z"
   },
   {
    "duration": 83,
    "start_time": "2022-01-12T17:18:43.306Z"
   },
   {
    "duration": 37,
    "start_time": "2022-01-12T17:18:43.392Z"
   },
   {
    "duration": 4,
    "start_time": "2022-01-12T17:18:43.432Z"
   },
   {
    "duration": 32,
    "start_time": "2022-01-12T17:18:43.439Z"
   },
   {
    "duration": 22,
    "start_time": "2022-01-12T17:18:43.473Z"
   },
   {
    "duration": 4,
    "start_time": "2022-01-12T17:18:43.498Z"
   },
   {
    "duration": 727,
    "start_time": "2022-01-12T17:18:43.504Z"
   },
   {
    "duration": 21,
    "start_time": "2022-01-12T17:18:44.236Z"
   },
   {
    "duration": 823,
    "start_time": "2022-01-12T17:19:31.182Z"
   },
   {
    "duration": 20,
    "start_time": "2022-01-12T17:19:39.892Z"
   },
   {
    "duration": 5,
    "start_time": "2022-01-12T17:19:45.565Z"
   },
   {
    "duration": 15,
    "start_time": "2022-01-12T17:19:50.907Z"
   },
   {
    "duration": 19,
    "start_time": "2022-01-12T17:20:02.836Z"
   },
   {
    "duration": 15,
    "start_time": "2022-01-12T17:20:28.195Z"
   },
   {
    "duration": 15,
    "start_time": "2022-01-12T17:20:30.364Z"
   },
   {
    "duration": 19,
    "start_time": "2022-01-12T17:20:34.141Z"
   },
   {
    "duration": 16,
    "start_time": "2022-01-12T17:21:11.980Z"
   },
   {
    "duration": 16,
    "start_time": "2022-01-12T17:21:59.540Z"
   },
   {
    "duration": 16,
    "start_time": "2022-01-12T17:22:03.388Z"
   },
   {
    "duration": 16,
    "start_time": "2022-01-12T17:22:10.844Z"
   },
   {
    "duration": 16,
    "start_time": "2022-01-12T17:22:20.543Z"
   },
   {
    "duration": 18,
    "start_time": "2022-01-12T17:23:00.141Z"
   },
   {
    "duration": 439,
    "start_time": "2022-01-12T17:23:41.230Z"
   },
   {
    "duration": 333,
    "start_time": "2022-01-12T17:23:59.582Z"
   },
   {
    "duration": 384,
    "start_time": "2022-01-12T17:24:47.701Z"
   },
   {
    "duration": 802,
    "start_time": "2022-01-12T17:24:58.960Z"
   },
   {
    "duration": 20,
    "start_time": "2022-01-12T17:24:59.764Z"
   },
   {
    "duration": 4,
    "start_time": "2022-01-12T17:24:59.787Z"
   },
   {
    "duration": 43,
    "start_time": "2022-01-12T17:24:59.793Z"
   },
   {
    "duration": 18,
    "start_time": "2022-01-12T17:25:19.613Z"
   },
   {
    "duration": 21,
    "start_time": "2022-01-12T17:27:10.068Z"
   },
   {
    "duration": 4,
    "start_time": "2022-01-12T17:27:33.101Z"
   },
   {
    "duration": 23,
    "start_time": "2022-01-12T17:27:48.316Z"
   },
   {
    "duration": 19,
    "start_time": "2022-01-12T17:28:28.342Z"
   },
   {
    "duration": 23,
    "start_time": "2022-01-12T17:28:35.581Z"
   },
   {
    "duration": 364,
    "start_time": "2022-01-12T17:29:19.062Z"
   },
   {
    "duration": 760,
    "start_time": "2022-01-12T17:29:36.569Z"
   },
   {
    "duration": 19,
    "start_time": "2022-01-12T17:29:37.332Z"
   },
   {
    "duration": 5,
    "start_time": "2022-01-12T17:29:37.354Z"
   },
   {
    "duration": 16,
    "start_time": "2022-01-12T17:29:37.363Z"
   },
   {
    "duration": 58,
    "start_time": "2022-01-12T17:29:37.381Z"
   },
   {
    "duration": 5,
    "start_time": "2022-01-12T17:29:37.442Z"
   },
   {
    "duration": 808,
    "start_time": "2022-01-12T17:29:37.450Z"
   },
   {
    "duration": 22,
    "start_time": "2022-01-12T17:29:38.261Z"
   },
   {
    "duration": 35,
    "start_time": "2022-01-12T17:29:39.229Z"
   },
   {
    "duration": 52,
    "start_time": "2022-01-12T17:30:06.351Z"
   },
   {
    "duration": 33,
    "start_time": "2022-01-12T17:30:56.832Z"
   },
   {
    "duration": 4,
    "start_time": "2022-01-12T17:35:03.007Z"
   },
   {
    "duration": 6,
    "start_time": "2022-01-12T17:35:10.390Z"
   },
   {
    "duration": 6,
    "start_time": "2022-01-12T17:35:15.750Z"
   },
   {
    "duration": 6,
    "start_time": "2022-01-12T17:35:21.551Z"
   },
   {
    "duration": 5,
    "start_time": "2022-01-12T17:35:26.342Z"
   },
   {
    "duration": 7,
    "start_time": "2022-01-12T17:35:33.118Z"
   },
   {
    "duration": 339,
    "start_time": "2022-01-12T17:37:55.127Z"
   },
   {
    "duration": 25,
    "start_time": "2022-01-12T17:38:04.255Z"
   },
   {
    "duration": 23,
    "start_time": "2022-01-12T17:38:18.783Z"
   },
   {
    "duration": 6,
    "start_time": "2022-01-12T17:43:00.336Z"
   },
   {
    "duration": 6,
    "start_time": "2022-01-12T17:43:34.865Z"
   },
   {
    "duration": 3,
    "start_time": "2022-01-12T17:58:26.976Z"
   },
   {
    "duration": 3,
    "start_time": "2022-01-12T17:59:37.754Z"
   },
   {
    "duration": 8,
    "start_time": "2022-01-12T17:59:56.344Z"
   },
   {
    "duration": 397,
    "start_time": "2022-01-12T18:03:13.306Z"
   },
   {
    "duration": 18,
    "start_time": "2022-01-12T18:03:47.364Z"
   },
   {
    "duration": 16,
    "start_time": "2022-01-12T18:03:50.825Z"
   },
   {
    "duration": 16,
    "start_time": "2022-01-12T18:04:41.690Z"
   },
   {
    "duration": 23,
    "start_time": "2022-01-12T18:04:46.473Z"
   },
   {
    "duration": 11,
    "start_time": "2022-01-12T18:09:57.458Z"
   },
   {
    "duration": 10,
    "start_time": "2022-01-12T18:15:05.955Z"
   },
   {
    "duration": 1100,
    "start_time": "2022-01-12T18:24:35.094Z"
   },
   {
    "duration": 5,
    "start_time": "2022-01-12T18:30:12.542Z"
   },
   {
    "duration": 8,
    "start_time": "2022-01-12T18:30:22.923Z"
   },
   {
    "duration": 833,
    "start_time": "2022-01-12T18:30:32.342Z"
   },
   {
    "duration": 22,
    "start_time": "2022-01-12T18:30:33.188Z"
   },
   {
    "duration": 6,
    "start_time": "2022-01-12T18:30:33.223Z"
   },
   {
    "duration": 21,
    "start_time": "2022-01-12T18:30:33.233Z"
   },
   {
    "duration": 26,
    "start_time": "2022-01-12T18:30:33.258Z"
   },
   {
    "duration": 36,
    "start_time": "2022-01-12T18:30:33.287Z"
   },
   {
    "duration": 1152,
    "start_time": "2022-01-12T18:30:33.327Z"
   },
   {
    "duration": 41,
    "start_time": "2022-01-12T18:30:34.483Z"
   },
   {
    "duration": 36,
    "start_time": "2022-01-12T18:30:34.527Z"
   },
   {
    "duration": 5,
    "start_time": "2022-01-12T18:30:34.565Z"
   },
   {
    "duration": 70,
    "start_time": "2022-01-12T18:30:34.572Z"
   },
   {
    "duration": 25,
    "start_time": "2022-01-12T18:30:34.645Z"
   },
   {
    "duration": 7,
    "start_time": "2022-01-12T18:30:34.672Z"
   },
   {
    "duration": 48,
    "start_time": "2022-01-12T18:30:34.682Z"
   },
   {
    "duration": 11,
    "start_time": "2022-01-12T18:30:34.733Z"
   },
   {
    "duration": 3,
    "start_time": "2022-01-12T18:30:34.747Z"
   },
   {
    "duration": 431,
    "start_time": "2022-01-12T18:31:03.380Z"
   },
   {
    "duration": 112,
    "start_time": "2022-01-12T18:34:34.888Z"
   },
   {
    "duration": 6,
    "start_time": "2022-01-12T18:35:14.354Z"
   },
   {
    "duration": 5,
    "start_time": "2022-01-12T18:35:16.289Z"
   },
   {
    "duration": 891,
    "start_time": "2022-01-12T18:35:29.863Z"
   },
   {
    "duration": 15,
    "start_time": "2022-01-12T18:35:36.496Z"
   },
   {
    "duration": 7,
    "start_time": "2022-01-12T18:35:57.233Z"
   },
   {
    "duration": 15,
    "start_time": "2022-01-12T18:36:02.120Z"
   },
   {
    "duration": 13,
    "start_time": "2022-01-12T18:37:12.056Z"
   },
   {
    "duration": 6,
    "start_time": "2022-01-12T18:37:15.385Z"
   },
   {
    "duration": 8,
    "start_time": "2022-01-12T18:37:20.456Z"
   },
   {
    "duration": 333,
    "start_time": "2022-01-12T18:39:51.982Z"
   },
   {
    "duration": 11,
    "start_time": "2022-01-12T18:39:59.289Z"
   },
   {
    "duration": 5,
    "start_time": "2022-01-12T19:06:59.525Z"
   },
   {
    "duration": 16001,
    "start_time": "2022-01-12T19:08:41.258Z"
   },
   {
    "duration": 879,
    "start_time": "2022-01-12T19:09:59.812Z"
   },
   {
    "duration": 34,
    "start_time": "2022-01-12T19:10:00.694Z"
   },
   {
    "duration": 4,
    "start_time": "2022-01-12T19:10:00.731Z"
   },
   {
    "duration": 20,
    "start_time": "2022-01-12T19:10:00.738Z"
   },
   {
    "duration": 18,
    "start_time": "2022-01-12T19:10:00.761Z"
   },
   {
    "duration": 44,
    "start_time": "2022-01-12T19:10:00.782Z"
   },
   {
    "duration": 811,
    "start_time": "2022-01-12T19:10:00.829Z"
   },
   {
    "duration": 22,
    "start_time": "2022-01-12T19:10:01.644Z"
   },
   {
    "duration": 56,
    "start_time": "2022-01-12T19:10:01.669Z"
   },
   {
    "duration": 6,
    "start_time": "2022-01-12T19:10:01.727Z"
   },
   {
    "duration": 25,
    "start_time": "2022-01-12T19:10:01.736Z"
   },
   {
    "duration": 22,
    "start_time": "2022-01-12T19:10:01.764Z"
   },
   {
    "duration": 8,
    "start_time": "2022-01-12T19:10:01.824Z"
   },
   {
    "duration": 24,
    "start_time": "2022-01-12T19:10:01.834Z"
   },
   {
    "duration": 8,
    "start_time": "2022-01-12T19:10:01.861Z"
   },
   {
    "duration": 6,
    "start_time": "2022-01-12T19:10:01.871Z"
   },
   {
    "duration": 948,
    "start_time": "2022-01-12T19:10:01.880Z"
   },
   {
    "duration": 5,
    "start_time": "2022-01-12T19:10:02.831Z"
   },
   {
    "duration": 16660,
    "start_time": "2022-01-12T19:10:02.839Z"
   },
   {
    "duration": 776,
    "start_time": "2022-01-12T19:12:20.942Z"
   },
   {
    "duration": 16161,
    "start_time": "2022-01-12T19:12:24.964Z"
   },
   {
    "duration": 5,
    "start_time": "2022-01-12T19:13:55.397Z"
   },
   {
    "duration": 4446,
    "start_time": "2022-01-12T19:13:57.462Z"
   },
   {
    "duration": 4,
    "start_time": "2022-01-12T19:14:52.798Z"
   },
   {
    "duration": 4377,
    "start_time": "2022-01-12T19:14:54.765Z"
   },
   {
    "duration": 4261,
    "start_time": "2022-01-12T19:19:36.806Z"
   },
   {
    "duration": 5,
    "start_time": "2022-01-12T19:20:44.486Z"
   },
   {
    "duration": 4257,
    "start_time": "2022-01-12T19:20:46.391Z"
   },
   {
    "duration": 4343,
    "start_time": "2022-01-12T19:21:12.134Z"
   },
   {
    "duration": 7,
    "start_time": "2022-01-12T19:31:49.664Z"
   },
   {
    "duration": 6,
    "start_time": "2022-01-12T19:32:40.929Z"
   },
   {
    "duration": 8,
    "start_time": "2022-01-12T19:32:47.743Z"
   },
   {
    "duration": 29,
    "start_time": "2022-01-12T19:39:52.120Z"
   },
   {
    "duration": 18,
    "start_time": "2022-01-12T19:39:56.471Z"
   },
   {
    "duration": 11,
    "start_time": "2022-01-12T19:40:17.663Z"
   },
   {
    "duration": 5,
    "start_time": "2022-01-12T19:40:43.271Z"
   },
   {
    "duration": 7,
    "start_time": "2022-01-12T19:42:11.465Z"
   },
   {
    "duration": 4513,
    "start_time": "2022-01-12T19:42:12.840Z"
   },
   {
    "duration": 111,
    "start_time": "2022-01-12T19:43:44.864Z"
   },
   {
    "duration": 6,
    "start_time": "2022-01-12T19:43:49.672Z"
   },
   {
    "duration": 13,
    "start_time": "2022-01-12T19:44:40.946Z"
   },
   {
    "duration": 4,
    "start_time": "2022-01-12T19:54:32.584Z"
   },
   {
    "duration": 432,
    "start_time": "2022-01-12T20:02:21.257Z"
   },
   {
    "duration": 6,
    "start_time": "2022-01-12T20:02:34.225Z"
   },
   {
    "duration": 6,
    "start_time": "2022-01-12T20:04:46.881Z"
   },
   {
    "duration": 24,
    "start_time": "2022-01-12T20:04:51.136Z"
   },
   {
    "duration": 7,
    "start_time": "2022-01-12T20:05:01.809Z"
   },
   {
    "duration": 7,
    "start_time": "2022-01-12T20:05:10.617Z"
   },
   {
    "duration": 10,
    "start_time": "2022-01-12T20:05:28.281Z"
   },
   {
    "duration": 9,
    "start_time": "2022-01-12T20:05:31.857Z"
   },
   {
    "duration": 5,
    "start_time": "2022-01-12T20:17:10.714Z"
   },
   {
    "duration": 5,
    "start_time": "2022-01-12T20:17:45.394Z"
   },
   {
    "duration": 21,
    "start_time": "2022-01-12T20:17:47.601Z"
   },
   {
    "duration": 23,
    "start_time": "2022-01-12T20:17:59.866Z"
   },
   {
    "duration": 8,
    "start_time": "2022-01-12T20:37:09.693Z"
   },
   {
    "duration": 16,
    "start_time": "2022-01-12T20:37:20.579Z"
   },
   {
    "duration": 15,
    "start_time": "2022-01-12T20:41:34.182Z"
   },
   {
    "duration": 302,
    "start_time": "2022-01-12T20:42:42.156Z"
   },
   {
    "duration": 376,
    "start_time": "2022-01-12T20:43:30.671Z"
   },
   {
    "duration": 327,
    "start_time": "2022-01-12T20:43:41.366Z"
   },
   {
    "duration": 305,
    "start_time": "2022-01-12T20:44:14.413Z"
   },
   {
    "duration": 362,
    "start_time": "2022-01-12T20:45:28.709Z"
   },
   {
    "duration": 383,
    "start_time": "2022-01-12T20:46:35.077Z"
   },
   {
    "duration": 21,
    "start_time": "2022-01-12T20:46:55.942Z"
   },
   {
    "duration": 27,
    "start_time": "2022-01-12T20:47:09.926Z"
   },
   {
    "duration": 34,
    "start_time": "2022-01-12T20:47:16.773Z"
   },
   {
    "duration": 17,
    "start_time": "2022-01-12T20:49:30.534Z"
   },
   {
    "duration": 340,
    "start_time": "2022-01-12T21:00:15.623Z"
   },
   {
    "duration": 795,
    "start_time": "2022-01-12T21:00:21.662Z"
   },
   {
    "duration": 11,
    "start_time": "2022-01-12T21:01:40.975Z"
   },
   {
    "duration": 6,
    "start_time": "2022-01-12T21:06:23.351Z"
   },
   {
    "duration": 5,
    "start_time": "2022-01-12T21:06:38.750Z"
   },
   {
    "duration": 4,
    "start_time": "2022-01-12T21:08:29.702Z"
   },
   {
    "duration": 5,
    "start_time": "2022-01-12T21:08:32.494Z"
   },
   {
    "duration": 6,
    "start_time": "2022-01-12T21:08:35.446Z"
   },
   {
    "duration": 7,
    "start_time": "2022-01-12T21:08:53.766Z"
   },
   {
    "duration": 7,
    "start_time": "2022-01-12T21:16:15.704Z"
   },
   {
    "duration": 7,
    "start_time": "2022-01-12T21:17:04.799Z"
   },
   {
    "duration": 6,
    "start_time": "2022-01-12T21:17:23.487Z"
   },
   {
    "duration": 116,
    "start_time": "2022-01-12T21:18:11.352Z"
   },
   {
    "duration": 356,
    "start_time": "2022-01-12T21:18:18.120Z"
   },
   {
    "duration": 379,
    "start_time": "2022-01-12T21:18:25.583Z"
   },
   {
    "duration": 111,
    "start_time": "2022-01-12T21:21:39.129Z"
   },
   {
    "duration": 115,
    "start_time": "2022-01-12T21:21:55.151Z"
   },
   {
    "duration": 330,
    "start_time": "2022-01-12T21:22:05.214Z"
   },
   {
    "duration": 117,
    "start_time": "2022-01-12T21:22:23.671Z"
   },
   {
    "duration": 6,
    "start_time": "2022-01-12T21:23:34.816Z"
   },
   {
    "duration": 6,
    "start_time": "2022-01-12T21:24:09.976Z"
   },
   {
    "duration": 7,
    "start_time": "2022-01-12T21:24:17.304Z"
   },
   {
    "duration": 462,
    "start_time": "2022-01-13T12:58:42.005Z"
   },
   {
    "duration": 974,
    "start_time": "2022-01-13T12:58:47.675Z"
   },
   {
    "duration": 29,
    "start_time": "2022-01-13T12:58:48.652Z"
   },
   {
    "duration": 5,
    "start_time": "2022-01-13T12:58:48.685Z"
   },
   {
    "duration": 19,
    "start_time": "2022-01-13T12:58:48.694Z"
   },
   {
    "duration": 5,
    "start_time": "2022-01-13T12:58:48.715Z"
   },
   {
    "duration": 61,
    "start_time": "2022-01-13T12:58:48.722Z"
   },
   {
    "duration": 5,
    "start_time": "2022-01-13T12:58:48.786Z"
   },
   {
    "duration": 892,
    "start_time": "2022-01-13T12:58:48.795Z"
   },
   {
    "duration": 11,
    "start_time": "2022-01-13T12:58:49.691Z"
   },
   {
    "duration": 11,
    "start_time": "2022-01-13T12:58:49.705Z"
   },
   {
    "duration": 61,
    "start_time": "2022-01-13T12:58:49.718Z"
   },
   {
    "duration": 38,
    "start_time": "2022-01-13T12:58:49.781Z"
   },
   {
    "duration": 6,
    "start_time": "2022-01-13T12:58:49.822Z"
   },
   {
    "duration": 63,
    "start_time": "2022-01-13T12:58:49.831Z"
   },
   {
    "duration": 25,
    "start_time": "2022-01-13T12:58:49.896Z"
   },
   {
    "duration": 8,
    "start_time": "2022-01-13T12:58:49.924Z"
   },
   {
    "duration": 31,
    "start_time": "2022-01-13T12:58:49.967Z"
   },
   {
    "duration": 11,
    "start_time": "2022-01-13T12:58:50.001Z"
   },
   {
    "duration": 14,
    "start_time": "2022-01-13T12:58:50.014Z"
   },
   {
    "duration": 1029,
    "start_time": "2022-01-13T12:58:50.031Z"
   },
   {
    "duration": 8,
    "start_time": "2022-01-13T12:58:51.063Z"
   },
   {
    "duration": 3911,
    "start_time": "2022-01-13T12:58:51.073Z"
   },
   {
    "duration": 4,
    "start_time": "2022-01-13T12:58:54.989Z"
   },
   {
    "duration": 17,
    "start_time": "2022-01-13T12:58:54.996Z"
   },
   {
    "duration": 9,
    "start_time": "2022-01-13T12:58:55.015Z"
   },
   {
    "duration": 44,
    "start_time": "2022-01-13T12:58:55.026Z"
   },
   {
    "duration": 29,
    "start_time": "2022-01-13T12:58:55.072Z"
   },
   {
    "duration": 22,
    "start_time": "2022-01-13T12:58:55.104Z"
   },
   {
    "duration": 66,
    "start_time": "2022-01-13T12:58:55.129Z"
   },
   {
    "duration": 697,
    "start_time": "2022-01-13T12:58:55.198Z"
   },
   {
    "duration": 7,
    "start_time": "2022-01-13T12:58:55.898Z"
   },
   {
    "duration": 20,
    "start_time": "2022-01-13T12:58:55.907Z"
   },
   {
    "duration": 7,
    "start_time": "2022-01-13T13:00:01.122Z"
   },
   {
    "duration": 22,
    "start_time": "2022-01-13T13:02:21.379Z"
   },
   {
    "duration": 20,
    "start_time": "2022-01-13T13:03:05.612Z"
   },
   {
    "duration": 17,
    "start_time": "2022-01-13T13:07:09.746Z"
   },
   {
    "duration": 7,
    "start_time": "2022-01-13T13:07:12.298Z"
   },
   {
    "duration": 19,
    "start_time": "2022-01-13T13:07:22.620Z"
   },
   {
    "duration": 24,
    "start_time": "2022-01-13T13:07:29.370Z"
   },
   {
    "duration": 13,
    "start_time": "2022-01-13T13:08:27.586Z"
   },
   {
    "duration": 11,
    "start_time": "2022-01-13T13:08:55.196Z"
   },
   {
    "duration": 103,
    "start_time": "2022-01-13T13:10:28.115Z"
   },
   {
    "duration": 440,
    "start_time": "2022-01-13T13:10:31.394Z"
   },
   {
    "duration": 428,
    "start_time": "2022-01-13T15:16:20.626Z"
   },
   {
    "duration": 402,
    "start_time": "2022-01-13T15:16:28.764Z"
   },
   {
    "duration": 119,
    "start_time": "2022-01-13T15:16:37.125Z"
   },
   {
    "duration": 24,
    "start_time": "2022-01-13T15:16:37.246Z"
   },
   {
    "duration": 6,
    "start_time": "2022-01-13T15:16:37.274Z"
   },
   {
    "duration": 21,
    "start_time": "2022-01-13T15:16:37.284Z"
   },
   {
    "duration": 6,
    "start_time": "2022-01-13T15:16:37.308Z"
   },
   {
    "duration": 29,
    "start_time": "2022-01-13T15:16:37.317Z"
   },
   {
    "duration": 18,
    "start_time": "2022-01-13T15:16:37.349Z"
   },
   {
    "duration": 1150,
    "start_time": "2022-01-13T15:16:37.371Z"
   },
   {
    "duration": 13,
    "start_time": "2022-01-13T15:16:38.527Z"
   },
   {
    "duration": 31,
    "start_time": "2022-01-13T15:16:38.543Z"
   },
   {
    "duration": 25,
    "start_time": "2022-01-13T15:16:38.577Z"
   },
   {
    "duration": 74,
    "start_time": "2022-01-13T15:16:38.605Z"
   },
   {
    "duration": 7,
    "start_time": "2022-01-13T15:16:38.682Z"
   },
   {
    "duration": 29,
    "start_time": "2022-01-13T15:16:38.692Z"
   },
   {
    "duration": 54,
    "start_time": "2022-01-13T15:16:38.724Z"
   },
   {
    "duration": 8,
    "start_time": "2022-01-13T15:16:38.781Z"
   },
   {
    "duration": 24,
    "start_time": "2022-01-13T15:16:38.791Z"
   },
   {
    "duration": 54,
    "start_time": "2022-01-13T15:16:38.817Z"
   },
   {
    "duration": 6,
    "start_time": "2022-01-13T15:16:38.873Z"
   },
   {
    "duration": 966,
    "start_time": "2022-01-13T15:16:38.882Z"
   },
   {
    "duration": 6,
    "start_time": "2022-01-13T15:16:39.850Z"
   },
   {
    "duration": 4057,
    "start_time": "2022-01-13T15:16:39.858Z"
   },
   {
    "duration": 4,
    "start_time": "2022-01-13T15:16:43.917Z"
   },
   {
    "duration": 21,
    "start_time": "2022-01-13T15:16:43.924Z"
   },
   {
    "duration": 26,
    "start_time": "2022-01-13T15:16:43.947Z"
   },
   {
    "duration": 7,
    "start_time": "2022-01-13T15:16:43.976Z"
   },
   {
    "duration": 25,
    "start_time": "2022-01-13T15:16:43.988Z"
   },
   {
    "duration": 61,
    "start_time": "2022-01-13T15:16:44.016Z"
   },
   {
    "duration": 29,
    "start_time": "2022-01-13T15:16:44.080Z"
   },
   {
    "duration": 13,
    "start_time": "2022-01-13T15:16:44.112Z"
   },
   {
    "duration": 43,
    "start_time": "2022-01-13T15:16:44.128Z"
   },
   {
    "duration": 35,
    "start_time": "2022-01-13T15:16:44.174Z"
   },
   {
    "duration": 13,
    "start_time": "2022-01-13T15:16:44.212Z"
   },
   {
    "duration": 52,
    "start_time": "2022-01-13T15:16:44.227Z"
   },
   {
    "duration": 8,
    "start_time": "2022-01-13T15:16:44.281Z"
   },
   {
    "duration": 384,
    "start_time": "2022-01-13T15:16:53.363Z"
   },
   {
    "duration": 1195,
    "start_time": "2022-01-13T15:17:14.934Z"
   },
   {
    "duration": 36,
    "start_time": "2022-01-13T15:17:16.131Z"
   },
   {
    "duration": 5,
    "start_time": "2022-01-13T15:17:16.170Z"
   },
   {
    "duration": 21,
    "start_time": "2022-01-13T15:17:16.178Z"
   },
   {
    "duration": 5,
    "start_time": "2022-01-13T15:17:16.201Z"
   },
   {
    "duration": 59,
    "start_time": "2022-01-13T15:17:16.208Z"
   },
   {
    "duration": 6,
    "start_time": "2022-01-13T15:17:16.270Z"
   },
   {
    "duration": 905,
    "start_time": "2022-01-13T15:17:16.281Z"
   },
   {
    "duration": 9,
    "start_time": "2022-01-13T15:17:17.189Z"
   },
   {
    "duration": 11,
    "start_time": "2022-01-13T15:17:17.201Z"
   },
   {
    "duration": 61,
    "start_time": "2022-01-13T15:17:17.214Z"
   },
   {
    "duration": 36,
    "start_time": "2022-01-13T15:17:17.277Z"
   },
   {
    "duration": 6,
    "start_time": "2022-01-13T15:17:17.315Z"
   },
   {
    "duration": 57,
    "start_time": "2022-01-13T15:17:17.324Z"
   },
   {
    "duration": 25,
    "start_time": "2022-01-13T15:17:17.383Z"
   },
   {
    "duration": 6,
    "start_time": "2022-01-13T15:17:17.412Z"
   },
   {
    "duration": 52,
    "start_time": "2022-01-13T15:17:17.421Z"
   },
   {
    "duration": 12,
    "start_time": "2022-01-13T15:17:17.475Z"
   },
   {
    "duration": 7,
    "start_time": "2022-01-13T15:17:17.490Z"
   },
   {
    "duration": 967,
    "start_time": "2022-01-13T15:17:17.500Z"
   },
   {
    "duration": 5,
    "start_time": "2022-01-13T15:17:18.470Z"
   },
   {
    "duration": 4270,
    "start_time": "2022-01-13T15:17:18.478Z"
   },
   {
    "duration": 4,
    "start_time": "2022-01-13T15:17:22.767Z"
   },
   {
    "duration": 37,
    "start_time": "2022-01-13T15:17:22.776Z"
   },
   {
    "duration": 8,
    "start_time": "2022-01-13T15:17:22.815Z"
   },
   {
    "duration": 13,
    "start_time": "2022-01-13T15:17:22.826Z"
   },
   {
    "duration": 50,
    "start_time": "2022-01-13T15:17:22.842Z"
   },
   {
    "duration": 21,
    "start_time": "2022-01-13T15:17:22.895Z"
   },
   {
    "duration": 68,
    "start_time": "2022-01-13T15:17:22.919Z"
   },
   {
    "duration": 997,
    "start_time": "2022-01-13T15:17:22.990Z"
   },
   {
    "duration": 10,
    "start_time": "2022-01-13T15:17:23.990Z"
   },
   {
    "duration": 24,
    "start_time": "2022-01-13T15:17:24.002Z"
   },
   {
    "duration": 38,
    "start_time": "2022-01-13T15:17:24.029Z"
   },
   {
    "duration": 31,
    "start_time": "2022-01-13T15:17:24.070Z"
   },
   {
    "duration": 8,
    "start_time": "2022-01-13T15:17:24.104Z"
   },
   {
    "duration": 467,
    "start_time": "2022-01-13T15:17:32.186Z"
   },
   {
    "duration": 343,
    "start_time": "2022-01-13T15:17:43.634Z"
   },
   {
    "duration": 574,
    "start_time": "2022-01-13T15:17:46.569Z"
   },
   {
    "duration": 926,
    "start_time": "2022-01-13T15:17:53.330Z"
   },
   {
    "duration": 25,
    "start_time": "2022-01-13T15:17:54.258Z"
   },
   {
    "duration": 4,
    "start_time": "2022-01-13T15:17:54.286Z"
   },
   {
    "duration": 18,
    "start_time": "2022-01-13T15:17:54.292Z"
   },
   {
    "duration": 5,
    "start_time": "2022-01-13T15:17:54.313Z"
   },
   {
    "duration": 62,
    "start_time": "2022-01-13T15:17:54.320Z"
   },
   {
    "duration": 4,
    "start_time": "2022-01-13T15:17:54.385Z"
   },
   {
    "duration": 860,
    "start_time": "2022-01-13T15:17:54.393Z"
   },
   {
    "duration": 16,
    "start_time": "2022-01-13T15:17:55.256Z"
   },
   {
    "duration": 11,
    "start_time": "2022-01-13T15:17:55.275Z"
   },
   {
    "duration": 25,
    "start_time": "2022-01-13T15:17:55.288Z"
   },
   {
    "duration": 73,
    "start_time": "2022-01-13T15:17:55.315Z"
   },
   {
    "duration": 6,
    "start_time": "2022-01-13T15:17:55.392Z"
   },
   {
    "duration": 31,
    "start_time": "2022-01-13T15:17:55.401Z"
   },
   {
    "duration": 56,
    "start_time": "2022-01-13T15:17:55.434Z"
   },
   {
    "duration": 9,
    "start_time": "2022-01-13T15:17:55.493Z"
   },
   {
    "duration": 26,
    "start_time": "2022-01-13T15:17:55.505Z"
   },
   {
    "duration": 37,
    "start_time": "2022-01-13T15:17:55.533Z"
   },
   {
    "duration": 8,
    "start_time": "2022-01-13T15:17:55.573Z"
   },
   {
    "duration": 954,
    "start_time": "2022-01-13T15:17:55.584Z"
   },
   {
    "duration": 6,
    "start_time": "2022-01-13T15:17:56.541Z"
   },
   {
    "duration": 4193,
    "start_time": "2022-01-13T15:17:56.550Z"
   },
   {
    "duration": 4,
    "start_time": "2022-01-13T15:18:00.748Z"
   },
   {
    "duration": 20,
    "start_time": "2022-01-13T15:18:00.769Z"
   },
   {
    "duration": 13,
    "start_time": "2022-01-13T15:18:00.792Z"
   },
   {
    "duration": 7,
    "start_time": "2022-01-13T15:18:00.808Z"
   },
   {
    "duration": 62,
    "start_time": "2022-01-13T15:18:00.817Z"
   },
   {
    "duration": 20,
    "start_time": "2022-01-13T15:18:00.881Z"
   },
   {
    "duration": 28,
    "start_time": "2022-01-13T15:18:00.904Z"
   },
   {
    "duration": 762,
    "start_time": "2022-01-13T15:18:00.934Z"
   },
   {
    "duration": 6,
    "start_time": "2022-01-13T15:18:01.699Z"
   },
   {
    "duration": 23,
    "start_time": "2022-01-13T15:18:01.709Z"
   },
   {
    "duration": 37,
    "start_time": "2022-01-13T15:18:01.734Z"
   },
   {
    "duration": 32,
    "start_time": "2022-01-13T15:18:01.773Z"
   },
   {
    "duration": 11,
    "start_time": "2022-01-13T15:18:01.808Z"
   },
   {
    "duration": 15,
    "start_time": "2022-01-13T15:31:51.525Z"
   },
   {
    "duration": 16,
    "start_time": "2022-01-13T15:32:00.038Z"
   },
   {
    "duration": 26,
    "start_time": "2022-01-13T15:32:55.527Z"
   },
   {
    "duration": 8,
    "start_time": "2022-01-13T15:33:23.814Z"
   },
   {
    "duration": 11,
    "start_time": "2022-01-13T15:33:49.165Z"
   },
   {
    "duration": 114,
    "start_time": "2022-01-13T15:36:13.574Z"
   },
   {
    "duration": 17,
    "start_time": "2022-01-13T18:50:40.317Z"
   },
   {
    "duration": 32,
    "start_time": "2022-01-13T18:51:34.308Z"
   },
   {
    "duration": 11,
    "start_time": "2022-01-13T18:51:49.748Z"
   },
   {
    "duration": 11,
    "start_time": "2022-01-13T18:52:03.284Z"
   },
   {
    "duration": 39,
    "start_time": "2022-01-13T19:03:35.693Z"
   },
   {
    "duration": 912,
    "start_time": "2022-01-13T19:03:47.126Z"
   },
   {
    "duration": 31,
    "start_time": "2022-01-13T19:03:48.041Z"
   },
   {
    "duration": 5,
    "start_time": "2022-01-13T19:03:48.075Z"
   },
   {
    "duration": 26,
    "start_time": "2022-01-13T19:03:48.083Z"
   },
   {
    "duration": 9,
    "start_time": "2022-01-13T19:03:48.112Z"
   },
   {
    "duration": 24,
    "start_time": "2022-01-13T19:03:48.123Z"
   },
   {
    "duration": 5,
    "start_time": "2022-01-13T19:03:48.168Z"
   },
   {
    "duration": 865,
    "start_time": "2022-01-13T19:03:48.177Z"
   },
   {
    "duration": 9,
    "start_time": "2022-01-13T19:03:49.045Z"
   },
   {
    "duration": 22,
    "start_time": "2022-01-13T19:03:49.056Z"
   },
   {
    "duration": 26,
    "start_time": "2022-01-13T19:03:49.081Z"
   },
   {
    "duration": 76,
    "start_time": "2022-01-13T19:03:49.110Z"
   },
   {
    "duration": 5,
    "start_time": "2022-01-13T19:03:49.189Z"
   },
   {
    "duration": 33,
    "start_time": "2022-01-13T19:03:49.197Z"
   },
   {
    "duration": 44,
    "start_time": "2022-01-13T19:03:49.232Z"
   },
   {
    "duration": 6,
    "start_time": "2022-01-13T19:03:49.279Z"
   },
   {
    "duration": 26,
    "start_time": "2022-01-13T19:03:49.288Z"
   },
   {
    "duration": 8,
    "start_time": "2022-01-13T19:03:49.318Z"
   },
   {
    "duration": 7,
    "start_time": "2022-01-13T19:03:49.366Z"
   },
   {
    "duration": 1208,
    "start_time": "2022-01-13T19:03:49.376Z"
   },
   {
    "duration": 5,
    "start_time": "2022-01-13T19:03:50.587Z"
   },
   {
    "duration": 3925,
    "start_time": "2022-01-13T19:03:50.595Z"
   },
   {
    "duration": 4,
    "start_time": "2022-01-13T19:03:54.525Z"
   },
   {
    "duration": 35,
    "start_time": "2022-01-13T19:03:54.532Z"
   },
   {
    "duration": 7,
    "start_time": "2022-01-13T19:03:54.570Z"
   },
   {
    "duration": 4,
    "start_time": "2022-01-13T19:03:54.580Z"
   },
   {
    "duration": 28,
    "start_time": "2022-01-13T19:03:54.587Z"
   },
   {
    "duration": 59,
    "start_time": "2022-01-13T19:03:54.617Z"
   },
   {
    "duration": 26,
    "start_time": "2022-01-13T19:03:54.678Z"
   },
   {
    "duration": 808,
    "start_time": "2022-01-13T19:03:54.706Z"
   },
   {
    "duration": 9,
    "start_time": "2022-01-13T19:03:55.517Z"
   },
   {
    "duration": 40,
    "start_time": "2022-01-13T19:03:55.529Z"
   },
   {
    "duration": 8,
    "start_time": "2022-01-13T19:03:55.571Z"
   },
   {
    "duration": 30,
    "start_time": "2022-01-13T19:03:55.583Z"
   },
   {
    "duration": 12,
    "start_time": "2022-01-13T19:03:55.615Z"
   },
   {
    "duration": 53,
    "start_time": "2022-01-13T19:03:55.630Z"
   },
   {
    "duration": 25,
    "start_time": "2022-01-13T19:03:55.686Z"
   },
   {
    "duration": 10,
    "start_time": "2022-01-13T19:03:55.714Z"
   },
   {
    "duration": 53,
    "start_time": "2022-01-13T19:03:55.726Z"
   },
   {
    "duration": 33,
    "start_time": "2022-01-13T19:03:55.782Z"
   },
   {
    "duration": 10,
    "start_time": "2022-01-13T19:03:55.818Z"
   },
   {
    "duration": 1192,
    "start_time": "2022-01-15T20:42:40.351Z"
   },
   {
    "duration": 28,
    "start_time": "2022-01-15T20:42:41.546Z"
   },
   {
    "duration": 5,
    "start_time": "2022-01-15T20:42:41.577Z"
   },
   {
    "duration": 16,
    "start_time": "2022-01-15T20:42:41.584Z"
   },
   {
    "duration": 5,
    "start_time": "2022-01-15T20:42:41.603Z"
   },
   {
    "duration": 57,
    "start_time": "2022-01-15T20:42:41.610Z"
   },
   {
    "duration": 5,
    "start_time": "2022-01-15T20:42:41.670Z"
   },
   {
    "duration": 823,
    "start_time": "2022-01-15T20:42:41.678Z"
   },
   {
    "duration": 9,
    "start_time": "2022-01-15T20:42:42.504Z"
   },
   {
    "duration": 12,
    "start_time": "2022-01-15T20:42:42.515Z"
   },
   {
    "duration": 53,
    "start_time": "2022-01-15T20:42:42.529Z"
   },
   {
    "duration": 34,
    "start_time": "2022-01-15T20:42:42.584Z"
   },
   {
    "duration": 5,
    "start_time": "2022-01-15T20:42:42.621Z"
   },
   {
    "duration": 56,
    "start_time": "2022-01-15T20:42:42.628Z"
   },
   {
    "duration": 22,
    "start_time": "2022-01-15T20:42:42.687Z"
   },
   {
    "duration": 7,
    "start_time": "2022-01-15T20:42:42.711Z"
   },
   {
    "duration": 55,
    "start_time": "2022-01-15T20:42:42.720Z"
   },
   {
    "duration": 11,
    "start_time": "2022-01-15T20:42:42.777Z"
   },
   {
    "duration": 7,
    "start_time": "2022-01-15T20:42:42.791Z"
   },
   {
    "duration": 983,
    "start_time": "2022-01-15T20:42:42.800Z"
   },
   {
    "duration": 6,
    "start_time": "2022-01-15T20:42:43.787Z"
   },
   {
    "duration": 3820,
    "start_time": "2022-01-15T20:42:43.797Z"
   },
   {
    "duration": 4,
    "start_time": "2022-01-15T20:42:47.622Z"
   },
   {
    "duration": 40,
    "start_time": "2022-01-15T20:42:47.630Z"
   },
   {
    "duration": 7,
    "start_time": "2022-01-15T20:42:47.673Z"
   },
   {
    "duration": 5,
    "start_time": "2022-01-15T20:42:47.683Z"
   },
   {
    "duration": 26,
    "start_time": "2022-01-15T20:42:47.690Z"
   },
   {
    "duration": 58,
    "start_time": "2022-01-15T20:42:47.718Z"
   },
   {
    "duration": 31,
    "start_time": "2022-01-15T20:42:47.779Z"
   },
   {
    "duration": 1083,
    "start_time": "2022-01-15T20:42:47.813Z"
   },
   {
    "duration": 8,
    "start_time": "2022-01-15T20:42:48.900Z"
   },
   {
    "duration": 20,
    "start_time": "2022-01-15T20:42:48.911Z"
   },
   {
    "duration": 10,
    "start_time": "2022-01-15T20:42:48.964Z"
   },
   {
    "duration": 27,
    "start_time": "2022-01-15T20:42:48.977Z"
   },
   {
    "duration": 11,
    "start_time": "2022-01-15T20:42:49.006Z"
   },
   {
    "duration": 53,
    "start_time": "2022-01-15T20:42:49.020Z"
   },
   {
    "duration": 26,
    "start_time": "2022-01-15T20:42:49.075Z"
   },
   {
    "duration": 11,
    "start_time": "2022-01-15T20:42:49.103Z"
   },
   {
    "duration": 50,
    "start_time": "2022-01-15T20:42:49.116Z"
   },
   {
    "duration": 30,
    "start_time": "2022-01-15T20:42:49.170Z"
   },
   {
    "duration": 12,
    "start_time": "2022-01-15T20:42:49.203Z"
   }
  ],
  "kernelspec": {
   "display_name": "Python 3 (ipykernel)",
   "language": "python",
   "name": "python3"
  },
  "language_info": {
   "codemirror_mode": {
    "name": "ipython",
    "version": 3
   },
   "file_extension": ".py",
   "mimetype": "text/x-python",
   "name": "python",
   "nbconvert_exporter": "python",
   "pygments_lexer": "ipython3",
   "version": "3.9.7"
  },
  "toc": {
   "base_numbering": 1,
   "nav_menu": {},
   "number_sections": true,
   "sideBar": true,
   "skip_h1_title": true,
   "title_cell": "Table of Contents",
   "title_sidebar": "Contents",
   "toc_cell": false,
   "toc_position": {},
   "toc_section_display": true,
   "toc_window_display": false
  }
 },
 "nbformat": 4,
 "nbformat_minor": 2
}
